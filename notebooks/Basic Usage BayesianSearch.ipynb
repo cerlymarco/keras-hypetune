{
 "cells": [
  {
   "cell_type": "code",
   "execution_count": 1,
   "metadata": {},
   "outputs": [],
   "source": [
    "import os\n",
    "import random\n",
    "import numpy as np\n",
    "\n",
    "import tensorflow as tf\n",
    "from tensorflow.keras.layers import *\n",
    "from tensorflow.keras.models import *\n",
    "from tensorflow.keras.callbacks import *\n",
    "from tensorflow.keras.optimizers import Adam\n",
    "from tensorflow.keras.preprocessing.image import ImageDataGenerator\n",
    "\n",
    "from hyperopt import hp, Trials\n",
    "from sklearn.model_selection import KFold\n",
    "\n",
    "from kerashypetune import KerasBayesianSearch, KerasBayesianSearchCV"
   ]
  },
  {
   "cell_type": "code",
   "execution_count": 2,
   "metadata": {},
   "outputs": [],
   "source": [
    "def set_seed(seed):\n",
    "    \n",
    "    tf.random.set_seed(seed)\n",
    "    os.environ['PYTHONHASHSEED'] = str(seed)\n",
    "    np.random.seed(seed)\n",
    "    random.seed(seed)"
   ]
  },
  {
   "cell_type": "code",
   "execution_count": 3,
   "metadata": {},
   "outputs": [
    {
     "data": {
      "text/plain": [
       "((6036, 28, 28), (6036,), (2963, 28, 28), (2963,))"
      ]
     },
     "execution_count": 3,
     "metadata": {},
     "output_type": "execute_result"
    }
   ],
   "source": [
    "(x_train, y_train), (x_test, y_test) = tf.keras.datasets.mnist.load_data()\n",
    "\n",
    "np.random.seed(33)\n",
    "subset_train = np.random.uniform(0,1, len(y_train))\n",
    "subset_test = np.random.uniform(0,1, len(y_test))\n",
    "\n",
    "x_train = x_train[subset_train < 0.1] / 255\n",
    "y_train = y_train[subset_train < 0.1]\n",
    "\n",
    "x_test = x_test[subset_test < 0.3] / 255\n",
    "y_test = y_test[subset_test < 0.3]\n",
    "\n",
    "x_train.shape, y_train.shape, x_test.shape, y_test.shape"
   ]
  },
  {
   "cell_type": "code",
   "execution_count": 4,
   "metadata": {},
   "outputs": [],
   "source": [
    "def get_model(param):\n",
    "    \n",
    "    set_seed(33)\n",
    "        \n",
    "    model = Sequential()\n",
    "    model.add(Flatten())\n",
    "    model.add(Dense(param['unit_1'], activation='relu'))\n",
    "    model.add(Dense(param['unit_2'], activation='relu'))\n",
    "    model.add(Dense(10, activation='softmax'))\n",
    "    model.compile(optimizer=Adam(learning_rate=param['lr']), \n",
    "                  loss='sparse_categorical_crossentropy',\n",
    "                  metrics=['accuracy'])\n",
    "    \n",
    "    return model"
   ]
  },
  {
   "cell_type": "code",
   "execution_count": 5,
   "metadata": {},
   "outputs": [],
   "source": [
    "param_grid = {\n",
    "    'unit_1': 64 + hp.randint('unit_1', 64),\n",
    "    'unit_2': 32 + hp.randint('unit_2', 96),\n",
    "    'lr': hp.loguniform('lr', np.log(0.001), np.log(0.02)), \n",
    "    'epochs': 100,\n",
    "    'batch_size': 512\n",
    "}"
   ]
  },
  {
   "cell_type": "markdown",
   "metadata": {},
   "source": [
    "# Fixed validation search"
   ]
  },
  {
   "cell_type": "code",
   "execution_count": 6,
   "metadata": {},
   "outputs": [
    {
     "name": "stdout",
     "output_type": "stream",
     "text": [
      "\n",
      "15 trials detected for ('unit_1', 'unit_2', 'lr', 'epochs', 'batch_size')\n",
      "\n",
      "***** (1/15) *****\n",
      "Search({'batch_size': 512, 'epochs': 100, 'lr': 0.0016861379017239324, 'unit_1': 122, 'unit_2': 58})\n",
      "Restoring model weights from the end of the best epoch.\n",
      "Epoch 00039: early stopping\n",
      "SCORE: 0.9487 at epoch 29\n",
      "\n",
      "***** (2/15) *****\n",
      "Search({'batch_size': 512, 'epochs': 100, 'lr': 0.0014104783964893717, 'unit_1': 80, 'unit_2': 96})\n",
      "Restoring model weights from the end of the best epoch.\n",
      "Epoch 00037: early stopping\n",
      "SCORE: 0.9433 at epoch 37\n",
      "\n",
      "***** (3/15) *****\n",
      "Search({'batch_size': 512, 'epochs': 100, 'lr': 0.006139711436597271, 'unit_1': 101, 'unit_2': 101})\n",
      "Restoring model weights from the end of the best epoch.\n",
      "Epoch 00036: early stopping\n",
      "SCORE: 0.95005 at epoch 26\n",
      "\n",
      "***** (4/15) *****\n",
      "Search({'batch_size': 512, 'epochs': 100, 'lr': 0.018199685929694627, 'unit_1': 70, 'unit_2': 107})\n",
      "Restoring model weights from the end of the best epoch.\n",
      "Epoch 00020: early stopping\n",
      "SCORE: 0.94566 at epoch 13\n",
      "\n",
      "***** (5/15) *****\n",
      "Search({'batch_size': 512, 'epochs': 100, 'lr': 0.0030185075402515246, 'unit_1': 101, 'unit_2': 112})\n",
      "Restoring model weights from the end of the best epoch.\n",
      "Epoch 00032: early stopping\n",
      "SCORE: 0.95376 at epoch 22\n",
      "\n",
      "***** (6/15) *****\n",
      "Search({'batch_size': 512, 'epochs': 100, 'lr': 0.001864571059195379, 'unit_1': 99, 'unit_2': 93})\n",
      "Restoring model weights from the end of the best epoch.\n",
      "Epoch 00029: early stopping\n",
      "SCORE: 0.94735 at epoch 28\n",
      "\n",
      "***** (7/15) *****\n",
      "Search({'batch_size': 512, 'epochs': 100, 'lr': 0.0028098615855990786, 'unit_1': 94, 'unit_2': 124})\n",
      "Restoring model weights from the end of the best epoch.\n",
      "Epoch 00031: early stopping\n",
      "SCORE: 0.94904 at epoch 21\n",
      "\n",
      "***** (8/15) *****\n",
      "Search({'batch_size': 512, 'epochs': 100, 'lr': 0.0029896673303287193, 'unit_1': 100, 'unit_2': 55})\n",
      "Restoring model weights from the end of the best epoch.\n",
      "Epoch 00034: early stopping\n",
      "SCORE: 0.95376 at epoch 24\n",
      "\n",
      "***** (9/15) *****\n",
      "Search({'batch_size': 512, 'epochs': 100, 'lr': 0.004102183556799779, 'unit_1': 104, 'unit_2': 47})\n",
      "Restoring model weights from the end of the best epoch.\n",
      "Epoch 00023: early stopping\n",
      "SCORE: 0.94398 at epoch 13\n",
      "\n",
      "***** (10/15) *****\n",
      "Search({'batch_size': 512, 'epochs': 100, 'lr': 0.002569664537891012, 'unit_1': 94, 'unit_2': 103})\n",
      "Restoring model weights from the end of the best epoch.\n",
      "Epoch 00045: early stopping\n",
      "SCORE: 0.95106 at epoch 35\n",
      "\n",
      "***** (11/15) *****\n",
      "Search({'batch_size': 512, 'epochs': 100, 'lr': 0.007617003049628987, 'unit_1': 94, 'unit_2': 120})\n",
      "Restoring model weights from the end of the best epoch.\n",
      "Epoch 00023: early stopping\n",
      "SCORE: 0.9514 at epoch 13\n",
      "\n",
      "***** (12/15) *****\n",
      "Search({'batch_size': 512, 'epochs': 100, 'lr': 0.003369536974829801, 'unit_1': 75, 'unit_2': 114})\n",
      "Restoring model weights from the end of the best epoch.\n",
      "Epoch 00029: early stopping\n",
      "SCORE: 0.9487 at epoch 21\n",
      "\n",
      "***** (13/15) *****\n",
      "Search({'batch_size': 512, 'epochs': 100, 'lr': 0.002097940683587956, 'unit_1': 123, 'unit_2': 61})\n",
      "Restoring model weights from the end of the best epoch.\n",
      "Epoch 00031: early stopping\n",
      "SCORE: 0.95343 at epoch 21\n",
      "\n",
      "***** (14/15) *****\n",
      "Search({'batch_size': 512, 'epochs': 100, 'lr': 0.001488081463762352, 'unit_1': 84, 'unit_2': 126})\n",
      "Restoring model weights from the end of the best epoch.\n",
      "Epoch 00039: early stopping\n",
      "SCORE: 0.946 at epoch 36\n",
      "\n",
      "***** (15/15) *****\n",
      "Search({'batch_size': 512, 'epochs': 100, 'lr': 0.0032272609715520537, 'unit_1': 94, 'unit_2': 120})\n",
      "Restoring model weights from the end of the best epoch.\n",
      "Epoch 00035: early stopping\n",
      "SCORE: 0.95039 at epoch 30\n"
     ]
    },
    {
     "data": {
      "text/plain": [
       "<kerashypetune.kerashypetune.KerasBayesianSearch at 0x1d8b59055c8>"
      ]
     },
     "execution_count": 6,
     "metadata": {},
     "output_type": "execute_result"
    }
   ],
   "source": [
    "es = EarlyStopping(patience=10, verbose=1, min_delta=0.001, monitor='val_accuracy', mode='auto', restore_best_weights=True)\n",
    "\n",
    "hypermodel = get_model  \n",
    "# to pass external arguments to get_model use lambda function\n",
    "# ==> hypermodel = lambda x: get_model(param=x, ...)\n",
    "# callable(hypermodel) ==> True\n",
    "\n",
    "kbs = KerasBayesianSearch(hypermodel, param_grid, n_iter=15, sampling_seed=33,\n",
    "                          monitor='val_accuracy', greater_is_better=True, tuner_verbose=1)\n",
    "kbs.search(x_train, y_train, trials=Trials(), validation_data=(x_test, y_test), callbacks=[es])"
   ]
  },
  {
   "cell_type": "code",
   "execution_count": 7,
   "metadata": {},
   "outputs": [
    {
     "data": {
      "text/plain": [
       "[0.9487,\n",
       " 0.9433,\n",
       " 0.95005,\n",
       " 0.94566,\n",
       " 0.95376,\n",
       " 0.94735,\n",
       " 0.94904,\n",
       " 0.95376,\n",
       " 0.94398,\n",
       " 0.95106,\n",
       " 0.9514,\n",
       " 0.9487,\n",
       " 0.95343,\n",
       " 0.946,\n",
       " 0.95039]"
      ]
     },
     "execution_count": 7,
     "metadata": {},
     "output_type": "execute_result"
    }
   ],
   "source": [
    "kbs.scores"
   ]
  },
  {
   "cell_type": "code",
   "execution_count": 8,
   "metadata": {},
   "outputs": [
    {
     "data": {
      "text/plain": [
       "0.95376"
      ]
     },
     "execution_count": 8,
     "metadata": {},
     "output_type": "execute_result"
    }
   ],
   "source": [
    "kbs.best_score"
   ]
  },
  {
   "cell_type": "code",
   "execution_count": 9,
   "metadata": {},
   "outputs": [
    {
     "data": {
      "text/plain": [
       "{'batch_size': 512,\n",
       " 'epochs': 22,\n",
       " 'lr': 0.0030185075402515246,\n",
       " 'unit_1': 101,\n",
       " 'unit_2': 112,\n",
       " 'steps_per_epoch': 12}"
      ]
     },
     "execution_count": 9,
     "metadata": {},
     "output_type": "execute_result"
    }
   ],
   "source": [
    "kbs.best_params"
   ]
  },
  {
   "cell_type": "code",
   "execution_count": 10,
   "metadata": {},
   "outputs": [
    {
     "data": {
      "text/plain": [
       "<tensorflow.python.keras.engine.sequential.Sequential at 0x1d8bcad9d08>"
      ]
     },
     "execution_count": 10,
     "metadata": {},
     "output_type": "execute_result"
    }
   ],
   "source": [
    "kbs.best_model"
   ]
  },
  {
   "cell_type": "markdown",
   "metadata": {},
   "source": [
    "# Fixed validation search Generator"
   ]
  },
  {
   "cell_type": "code",
   "execution_count": 11,
   "metadata": {},
   "outputs": [],
   "source": [
    "gen = ImageDataGenerator(\n",
    "         rotation_range=90,\n",
    "         width_shift_range=0.1,\n",
    "         height_shift_range=0.1,\n",
    "         zoom_range=0.2)"
   ]
  },
  {
   "cell_type": "code",
   "execution_count": 12,
   "metadata": {},
   "outputs": [
    {
     "name": "stdout",
     "output_type": "stream",
     "text": [
      "\n",
      "15 trials detected for ('unit_1', 'unit_2', 'lr', 'epochs', 'batch_size')\n",
      "\n",
      "***** (1/15) *****\n",
      "Search({'batch_size': 512, 'epochs': 100, 'lr': 0.0016861379017239324, 'unit_1': 122, 'unit_2': 58})\n",
      "Restoring model weights from the end of the best epoch.\n",
      "Epoch 00029: early stopping\n",
      "SCORE: 0.8839 at epoch 24\n",
      "\n",
      "***** (2/15) *****\n",
      "Search({'batch_size': 512, 'epochs': 100, 'lr': 0.0014104783964893717, 'unit_1': 80, 'unit_2': 96})\n",
      "Restoring model weights from the end of the best epoch.\n",
      "Epoch 00023: early stopping\n",
      "SCORE: 0.84914 at epoch 18\n",
      "\n",
      "***** (3/15) *****\n",
      "Search({'batch_size': 512, 'epochs': 100, 'lr': 0.006139711436597271, 'unit_1': 101, 'unit_2': 101})\n",
      "Restoring model weights from the end of the best epoch.\n",
      "Epoch 00018: early stopping\n",
      "SCORE: 0.86196 at epoch 13\n",
      "\n",
      "***** (4/15) *****\n",
      "Search({'batch_size': 512, 'epochs': 100, 'lr': 0.018199685929694627, 'unit_1': 70, 'unit_2': 107})\n",
      "Restoring model weights from the end of the best epoch.\n",
      "Epoch 00027: early stopping\n",
      "SCORE: 0.82923 at epoch 22\n",
      "\n",
      "***** (5/15) *****\n",
      "Search({'batch_size': 512, 'epochs': 100, 'lr': 0.0030185075402515246, 'unit_1': 101, 'unit_2': 112})\n",
      "Restoring model weights from the end of the best epoch.\n",
      "Epoch 00037: early stopping\n",
      "SCORE: 0.89976 at epoch 32\n",
      "\n",
      "***** (6/15) *****\n",
      "Search({'batch_size': 512, 'epochs': 100, 'lr': 0.001864571059195379, 'unit_1': 99, 'unit_2': 93})\n",
      "Restoring model weights from the end of the best epoch.\n",
      "Epoch 00027: early stopping\n",
      "SCORE: 0.88424 at epoch 22\n",
      "\n",
      "***** (7/15) *****\n",
      "Search({'batch_size': 512, 'epochs': 100, 'lr': 0.0028098615855990786, 'unit_1': 94, 'unit_2': 124})\n",
      "Restoring model weights from the end of the best epoch.\n",
      "Epoch 00028: early stopping\n",
      "SCORE: 0.87951 at epoch 23\n",
      "\n",
      "***** (8/15) *****\n",
      "Search({'batch_size': 512, 'epochs': 100, 'lr': 0.0029896673303287193, 'unit_1': 100, 'unit_2': 55})\n",
      "Restoring model weights from the end of the best epoch.\n",
      "Epoch 00026: early stopping\n",
      "SCORE: 0.87715 at epoch 21\n",
      "\n",
      "***** (9/15) *****\n",
      "Search({'batch_size': 512, 'epochs': 100, 'lr': 0.004102183556799779, 'unit_1': 104, 'unit_2': 47})\n",
      "Restoring model weights from the end of the best epoch.\n",
      "Epoch 00030: early stopping\n",
      "SCORE: 0.8758 at epoch 25\n",
      "\n",
      "***** (10/15) *****\n",
      "Search({'batch_size': 512, 'epochs': 100, 'lr': 0.002569664537891012, 'unit_1': 94, 'unit_2': 103})\n",
      "Restoring model weights from the end of the best epoch.\n",
      "Epoch 00035: early stopping\n",
      "SCORE: 0.88896 at epoch 30\n",
      "\n",
      "***** (11/15) *****\n",
      "Search({'batch_size': 512, 'epochs': 100, 'lr': 0.007617003049628987, 'unit_1': 94, 'unit_2': 120})\n",
      "Restoring model weights from the end of the best epoch.\n",
      "Epoch 00033: early stopping\n",
      "SCORE: 0.8866 at epoch 28\n",
      "\n",
      "***** (12/15) *****\n",
      "Search({'batch_size': 512, 'epochs': 100, 'lr': 0.003369536974829801, 'unit_1': 75, 'unit_2': 114})\n",
      "Restoring model weights from the end of the best epoch.\n",
      "Epoch 00030: early stopping\n",
      "SCORE: 0.8731 at epoch 28\n",
      "\n",
      "***** (13/15) *****\n",
      "Search({'batch_size': 512, 'epochs': 100, 'lr': 0.002097940683587956, 'unit_1': 123, 'unit_2': 61})\n",
      "Restoring model weights from the end of the best epoch.\n",
      "Epoch 00024: early stopping\n",
      "SCORE: 0.87006 at epoch 19\n",
      "\n",
      "***** (14/15) *****\n",
      "Search({'batch_size': 512, 'epochs': 100, 'lr': 0.001488081463762352, 'unit_1': 84, 'unit_2': 126})\n",
      "Restoring model weights from the end of the best epoch.\n",
      "Epoch 00040: early stopping\n",
      "SCORE: 0.87546 at epoch 35\n",
      "\n",
      "***** (15/15) *****\n",
      "Search({'batch_size': 512, 'epochs': 100, 'lr': 0.0032272609715520537, 'unit_1': 94, 'unit_2': 120})\n",
      "Restoring model weights from the end of the best epoch.\n",
      "Epoch 00041: early stopping\n",
      "SCORE: 0.89571 at epoch 36\n"
     ]
    },
    {
     "data": {
      "text/plain": [
       "<kerashypetune.kerashypetune.KerasBayesianSearch at 0x1d8b5905588>"
      ]
     },
     "execution_count": 12,
     "metadata": {},
     "output_type": "execute_result"
    }
   ],
   "source": [
    "es = EarlyStopping(patience=5, verbose=1, min_delta=0.001, monitor='val_accuracy', mode='auto', restore_best_weights=True)\n",
    "\n",
    "hypermodel = get_model\n",
    "# to pass external arguments to get_model use lambda function\n",
    "# ==> hypermodel = lambda x: get_model(param=x, ...)\n",
    "# callable(hypermodel) ==> True\n",
    "\n",
    "kbs = KerasBayesianSearch(hypermodel, param_grid, n_iter=15, sampling_seed=33,\n",
    "                          monitor='val_accuracy', greater_is_better=True, tuner_verbose=1)\n",
    "kbs.search(gen.flow(np.expand_dims(x_train,-1), y_train, batch_size=param_grid['batch_size'], seed=33), \n",
    "           trials=Trials(),\n",
    "           validation_data=(np.expand_dims(x_test,-1), y_test), \n",
    "           callbacks=[es], steps_per_epoch=len(x_train)//param_grid['batch_size'])"
   ]
  },
  {
   "cell_type": "code",
   "execution_count": 13,
   "metadata": {},
   "outputs": [
    {
     "data": {
      "text/plain": [
       "[0.8839,\n",
       " 0.84914,\n",
       " 0.86196,\n",
       " 0.82923,\n",
       " 0.89976,\n",
       " 0.88424,\n",
       " 0.87951,\n",
       " 0.87715,\n",
       " 0.8758,\n",
       " 0.88896,\n",
       " 0.8866,\n",
       " 0.8731,\n",
       " 0.87006,\n",
       " 0.87546,\n",
       " 0.89571]"
      ]
     },
     "execution_count": 13,
     "metadata": {},
     "output_type": "execute_result"
    }
   ],
   "source": [
    "kbs.scores"
   ]
  },
  {
   "cell_type": "code",
   "execution_count": 14,
   "metadata": {},
   "outputs": [
    {
     "data": {
      "text/plain": [
       "0.89976"
      ]
     },
     "execution_count": 14,
     "metadata": {},
     "output_type": "execute_result"
    }
   ],
   "source": [
    "kbs.best_score"
   ]
  },
  {
   "cell_type": "code",
   "execution_count": 15,
   "metadata": {},
   "outputs": [
    {
     "data": {
      "text/plain": [
       "{'batch_size': 512,\n",
       " 'epochs': 32,\n",
       " 'lr': 0.0030185075402515246,\n",
       " 'unit_1': 101,\n",
       " 'unit_2': 112,\n",
       " 'steps_per_epoch': 11}"
      ]
     },
     "execution_count": 15,
     "metadata": {},
     "output_type": "execute_result"
    }
   ],
   "source": [
    "kbs.best_params"
   ]
  },
  {
   "cell_type": "code",
   "execution_count": 16,
   "metadata": {},
   "outputs": [
    {
     "data": {
      "text/plain": [
       "<tensorflow.python.keras.engine.sequential.Sequential at 0x1d8bf6cddc8>"
      ]
     },
     "execution_count": 16,
     "metadata": {},
     "output_type": "execute_result"
    }
   ],
   "source": [
    "kbs.best_model"
   ]
  },
  {
   "cell_type": "markdown",
   "metadata": {},
   "source": [
    "# Cross validation search"
   ]
  },
  {
   "cell_type": "code",
   "execution_count": 17,
   "metadata": {},
   "outputs": [
    {
     "data": {
      "text/plain": [
       "((8999, 28, 28), (8999,))"
      ]
     },
     "execution_count": 17,
     "metadata": {},
     "output_type": "execute_result"
    }
   ],
   "source": [
    "X = np.concatenate([x_train, x_test])\n",
    "y = np.concatenate([y_train, y_test])\n",
    "\n",
    "X.shape, y.shape"
   ]
  },
  {
   "cell_type": "code",
   "execution_count": 18,
   "metadata": {},
   "outputs": [
    {
     "name": "stdout",
     "output_type": "stream",
     "text": [
      "\n",
      "##################\n",
      "###  Fold 001  ###\n",
      "##################\n",
      "\n",
      "5 trials detected for ('unit_1', 'unit_2', 'lr', 'epochs', 'batch_size')\n",
      "\n",
      "***** (1/5) *****\n",
      "Search({'batch_size': 512, 'epochs': 100, 'lr': 0.0016861379017239324, 'unit_1': 122, 'unit_2': 58})\n",
      "Restoring model weights from the end of the best epoch.\n",
      "Epoch 00028: early stopping\n",
      "SCORE: 0.942 at epoch 28\n",
      "\n",
      "***** (2/5) *****\n",
      "Search({'batch_size': 512, 'epochs': 100, 'lr': 0.0014104783964893717, 'unit_1': 80, 'unit_2': 96})\n",
      "Restoring model weights from the end of the best epoch.\n",
      "Epoch 00030: early stopping\n",
      "SCORE: 0.93633 at epoch 30\n",
      "\n",
      "***** (3/5) *****\n",
      "Search({'batch_size': 512, 'epochs': 100, 'lr': 0.006139711436597271, 'unit_1': 101, 'unit_2': 101})\n",
      "Restoring model weights from the end of the best epoch.\n",
      "Epoch 00024: early stopping\n",
      "SCORE: 0.94633 at epoch 23\n",
      "\n",
      "***** (4/5) *****\n",
      "Search({'batch_size': 512, 'epochs': 100, 'lr': 0.018199685929694627, 'unit_1': 70, 'unit_2': 107})\n",
      "Restoring model weights from the end of the best epoch.\n",
      "Epoch 00024: early stopping\n",
      "SCORE: 0.946 at epoch 23\n",
      "\n",
      "***** (5/5) *****\n",
      "Search({'batch_size': 512, 'epochs': 100, 'lr': 0.0030185075402515246, 'unit_1': 101, 'unit_2': 112})\n",
      "Restoring model weights from the end of the best epoch.\n",
      "Epoch 00033: early stopping\n",
      "SCORE: 0.94267 at epoch 27\n",
      "\n",
      "##################\n",
      "###  Fold 002  ###\n",
      "##################\n",
      "\n",
      "5 trials detected for ('unit_1', 'unit_2', 'lr', 'epochs', 'batch_size')\n",
      "\n",
      "***** (1/5) *****\n",
      "Search({'batch_size': 512, 'epochs': 100, 'lr': 0.0016861379017239324, 'unit_1': 122, 'unit_2': 58})\n",
      "Restoring model weights from the end of the best epoch.\n",
      "Epoch 00042: early stopping\n",
      "SCORE: 0.951 at epoch 42\n",
      "\n",
      "***** (2/5) *****\n",
      "Search({'batch_size': 512, 'epochs': 100, 'lr': 0.0014104783964893717, 'unit_1': 80, 'unit_2': 96})\n",
      "Restoring model weights from the end of the best epoch.\n",
      "Epoch 00034: early stopping\n",
      "SCORE: 0.94567 at epoch 26\n",
      "\n",
      "***** (3/5) *****\n",
      "Search({'batch_size': 512, 'epochs': 100, 'lr': 0.006139711436597271, 'unit_1': 101, 'unit_2': 101})\n",
      "Restoring model weights from the end of the best epoch.\n",
      "Epoch 00022: early stopping\n",
      "SCORE: 0.95233 at epoch 14\n",
      "\n",
      "***** (4/5) *****\n",
      "Search({'batch_size': 512, 'epochs': 100, 'lr': 0.018199685929694627, 'unit_1': 70, 'unit_2': 107})\n",
      "Restoring model weights from the end of the best epoch.\n",
      "Epoch 00015: early stopping\n",
      "SCORE: 0.946 at epoch 14\n",
      "\n",
      "***** (5/5) *****\n",
      "Search({'batch_size': 512, 'epochs': 100, 'lr': 0.0030185075402515246, 'unit_1': 101, 'unit_2': 112})\n",
      "Restoring model weights from the end of the best epoch.\n",
      "Epoch 00029: early stopping\n",
      "SCORE: 0.95133 at epoch 19\n",
      "\n",
      "##################\n",
      "###  Fold 003  ###\n",
      "##################\n",
      "\n",
      "5 trials detected for ('unit_1', 'unit_2', 'lr', 'epochs', 'batch_size')\n",
      "\n",
      "***** (1/5) *****\n",
      "Search({'batch_size': 512, 'epochs': 100, 'lr': 0.0016861379017239324, 'unit_1': 122, 'unit_2': 58})\n",
      "Restoring model weights from the end of the best epoch.\n",
      "Epoch 00027: early stopping\n",
      "SCORE: 0.94498 at epoch 21\n",
      "\n",
      "***** (2/5) *****\n",
      "Search({'batch_size': 512, 'epochs': 100, 'lr': 0.0014104783964893717, 'unit_1': 80, 'unit_2': 96})\n",
      "Restoring model weights from the end of the best epoch.\n",
      "Epoch 00029: early stopping\n",
      "SCORE: 0.94598 at epoch 21\n",
      "\n",
      "***** (3/5) *****\n",
      "Search({'batch_size': 512, 'epochs': 100, 'lr': 0.006139711436597271, 'unit_1': 101, 'unit_2': 101})\n",
      "Restoring model weights from the end of the best epoch.\n",
      "Epoch 00026: early stopping\n",
      "SCORE: 0.95265 at epoch 16\n",
      "\n",
      "***** (4/5) *****\n",
      "Search({'batch_size': 512, 'epochs': 100, 'lr': 0.018199685929694627, 'unit_1': 70, 'unit_2': 107})\n",
      "Restoring model weights from the end of the best epoch.\n",
      "Epoch 00022: early stopping\n",
      "SCORE: 0.94765 at epoch 12\n",
      "\n",
      "***** (5/5) *****\n",
      "Search({'batch_size': 512, 'epochs': 100, 'lr': 0.0030185075402515246, 'unit_1': 101, 'unit_2': 112})\n",
      "Restoring model weights from the end of the best epoch.\n",
      "Epoch 00039: early stopping\n",
      "SCORE: 0.95198 at epoch 29\n"
     ]
    },
    {
     "data": {
      "text/plain": [
       "<kerashypetune.kerashypetune.KerasBayesianSearchCV at 0x1d89d6ff188>"
      ]
     },
     "execution_count": 18,
     "metadata": {},
     "output_type": "execute_result"
    }
   ],
   "source": [
    "cv = KFold(n_splits=3, random_state=33, shuffle=True)\n",
    "\n",
    "es = EarlyStopping(patience=10, verbose=1, min_delta=0.001, monitor='val_accuracy', mode='auto', restore_best_weights=True)\n",
    "\n",
    "hypermodel = get_model\n",
    "# to pass external arguments to get_model use lambda function\n",
    "# ==> hypermodel = lambda x: get_model(param=x, ...)\n",
    "\n",
    "kbs = KerasBayesianSearchCV(hypermodel, param_grid, cv=cv, n_iter=5, sampling_seed=33,\n",
    "                            monitor='val_accuracy', greater_is_better=True, tuner_verbose=1)\n",
    "kbs.search(X, y, trials=Trials(), callbacks=[es])"
   ]
  },
  {
   "cell_type": "code",
   "execution_count": 19,
   "metadata": {
    "scrolled": true
   },
   "outputs": [
    {
     "data": {
      "text/plain": [
       "{'fold 1': [0.942, 0.93633, 0.94633, 0.946, 0.94267],\n",
       " 'fold 2': [0.951, 0.94567, 0.95233, 0.946, 0.95133],\n",
       " 'fold 3': [0.94498, 0.94598, 0.95265, 0.94765, 0.95198]}"
      ]
     },
     "execution_count": 19,
     "metadata": {},
     "output_type": "execute_result"
    }
   ],
   "source": [
    "kbs.folds_scores"
   ]
  },
  {
   "cell_type": "code",
   "execution_count": 20,
   "metadata": {},
   "outputs": [
    {
     "data": {
      "text/plain": [
       "{'fold 1': 0.94633, 'fold 2': 0.95233, 'fold 3': 0.95265}"
      ]
     },
     "execution_count": 20,
     "metadata": {},
     "output_type": "execute_result"
    }
   ],
   "source": [
    "kbs.folds_best_score"
   ]
  },
  {
   "cell_type": "code",
   "execution_count": 21,
   "metadata": {},
   "outputs": [
    {
     "data": {
      "text/plain": [
       "{'fold 1': {'batch_size': 512,\n",
       "  'epochs': 23,\n",
       "  'lr': 0.006139711436597271,\n",
       "  'unit_1': 101,\n",
       "  'unit_2': 101,\n",
       "  'steps_per_epoch': 12},\n",
       " 'fold 2': {'batch_size': 512,\n",
       "  'epochs': 14,\n",
       "  'lr': 0.006139711436597271,\n",
       "  'unit_1': 101,\n",
       "  'unit_2': 101,\n",
       "  'steps_per_epoch': 12},\n",
       " 'fold 3': {'batch_size': 512,\n",
       "  'epochs': 16,\n",
       "  'lr': 0.006139711436597271,\n",
       "  'unit_1': 101,\n",
       "  'unit_2': 101,\n",
       "  'steps_per_epoch': 12}}"
      ]
     },
     "execution_count": 21,
     "metadata": {},
     "output_type": "execute_result"
    }
   ],
   "source": [
    "kbs.folds_best_params"
   ]
  },
  {
   "cell_type": "code",
   "execution_count": 22,
   "metadata": {},
   "outputs": [
    {
     "data": {
      "text/plain": [
       "{'fold 1': <tensorflow.python.keras.engine.sequential.Sequential at 0x1d8bd478dc8>,\n",
       " 'fold 2': <tensorflow.python.keras.engine.sequential.Sequential at 0x1d8bd427dc8>,\n",
       " 'fold 3': <tensorflow.python.keras.engine.sequential.Sequential at 0x1d8bd3fa808>}"
      ]
     },
     "execution_count": 22,
     "metadata": {},
     "output_type": "execute_result"
    }
   ],
   "source": [
    "kbs.folds_best_models"
   ]
  },
  {
   "cell_type": "code",
   "execution_count": 23,
   "metadata": {},
   "outputs": [
    {
     "data": {
      "text/plain": [
       "0.95044"
      ]
     },
     "execution_count": 23,
     "metadata": {},
     "output_type": "execute_result"
    }
   ],
   "source": [
    "kbs.best_params_score"
   ]
  },
  {
   "cell_type": "code",
   "execution_count": 24,
   "metadata": {},
   "outputs": [
    {
     "data": {
      "text/plain": [
       "[{'batch_size': 512,\n",
       "  'epochs': 23,\n",
       "  'lr': 0.006139711436597271,\n",
       "  'unit_1': 101,\n",
       "  'unit_2': 101,\n",
       "  'steps_per_epoch': 12},\n",
       " {'batch_size': 512,\n",
       "  'epochs': 14,\n",
       "  'lr': 0.006139711436597271,\n",
       "  'unit_1': 101,\n",
       "  'unit_2': 101,\n",
       "  'steps_per_epoch': 12},\n",
       " {'batch_size': 512,\n",
       "  'epochs': 16,\n",
       "  'lr': 0.006139711436597271,\n",
       "  'unit_1': 101,\n",
       "  'unit_2': 101,\n",
       "  'steps_per_epoch': 12}]"
      ]
     },
     "execution_count": 24,
     "metadata": {},
     "output_type": "execute_result"
    }
   ],
   "source": [
    "kbs.best_params"
   ]
  }
 ],
 "metadata": {
  "kernelspec": {
   "display_name": "Python 3",
   "language": "python",
   "name": "python3"
  },
  "language_info": {
   "codemirror_mode": {
    "name": "ipython",
    "version": 3
   },
   "file_extension": ".py",
   "mimetype": "text/x-python",
   "name": "python",
   "nbconvert_exporter": "python",
   "pygments_lexer": "ipython3",
   "version": "3.7.4"
  }
 },
 "nbformat": 4,
 "nbformat_minor": 2
}
