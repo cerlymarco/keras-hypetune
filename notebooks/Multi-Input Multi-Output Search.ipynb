{
 "cells": [
  {
   "cell_type": "code",
   "execution_count": 1,
   "metadata": {},
   "outputs": [],
   "source": [
    "import os\n",
    "import random\n",
    "import numpy as np\n",
    "\n",
    "import tensorflow as tf\n",
    "from tensorflow.keras.layers import *\n",
    "from tensorflow.keras.models import *\n",
    "from tensorflow.keras.callbacks import *\n",
    "from tensorflow.keras.optimizers import Adam\n",
    "\n",
    "from kerashypetune import KerasGridSearch"
   ]
  },
  {
   "cell_type": "code",
   "execution_count": 2,
   "metadata": {},
   "outputs": [],
   "source": [
    "def set_seed(seed):\n",
    "    \n",
    "    tf.random.set_seed(seed)\n",
    "    os.environ['PYTHONHASHSEED'] = str(seed)\n",
    "    np.random.seed(seed)\n",
    "    random.seed(seed)"
   ]
  },
  {
   "cell_type": "code",
   "execution_count": 3,
   "metadata": {},
   "outputs": [
    {
     "data": {
      "text/plain": [
       "((6036, 28, 28), (6036,), (2963, 28, 28), (2963,))"
      ]
     },
     "execution_count": 3,
     "metadata": {},
     "output_type": "execute_result"
    }
   ],
   "source": [
    "(x_train, y_train), (x_test, y_test) = tf.keras.datasets.mnist.load_data()\n",
    "\n",
    "np.random.seed(33)\n",
    "subset_train = np.random.uniform(0,1, len(y_train))\n",
    "subset_test = np.random.uniform(0,1, len(y_test))\n",
    "\n",
    "x_train = x_train[subset_train < 0.1] / 255\n",
    "y_train = y_train[subset_train < 0.1]\n",
    "\n",
    "x_test = x_test[subset_test < 0.3] / 255\n",
    "y_test = y_test[subset_test < 0.3]\n",
    "\n",
    "x_train.shape, y_train.shape, x_test.shape, y_test.shape"
   ]
  },
  {
   "cell_type": "markdown",
   "metadata": {},
   "source": [
    "# Multi Output"
   ]
  },
  {
   "cell_type": "code",
   "execution_count": 4,
   "metadata": {},
   "outputs": [],
   "source": [
    "def get_model(param):\n",
    "    \n",
    "    set_seed(33)\n",
    "    \n",
    "    inp = Input((28,28))\n",
    "    x = Flatten()(inp)\n",
    "    \n",
    "    enc = Dense(param['unit_1'], activation='relu')(x)\n",
    "    enc = Dense(param['unit_2'], activation='relu')(enc)\n",
    "    \n",
    "    hidden = Dense(param['unit_hid'], activation='relu')(enc)\n",
    "    \n",
    "    dec = Dense(param['unit_2'], activation='relu')(hidden)\n",
    "    dec = Dense(param['unit_1'], activation='relu')(dec)\n",
    "    \n",
    "    ae_out = Dense(28*28, activation='relu')(dec)\n",
    "    ae_out = Reshape((28,28))(ae_out)\n",
    "    \n",
    "    class_out = Dense(10, activation='softmax')(hidden)\n",
    "    \n",
    "    model = Model(inp, [ae_out,class_out])\n",
    "    model.compile(optimizer=Adam(learning_rate=param['lr']), \n",
    "                  loss=['mse','sparse_categorical_crossentropy'])\n",
    "    \n",
    "    return model"
   ]
  },
  {
   "cell_type": "code",
   "execution_count": 5,
   "metadata": {},
   "outputs": [],
   "source": [
    "param_grid = {\n",
    "    'unit_1': [128,64], \n",
    "    'unit_2': [64,32],\n",
    "    'unit_hid' : [32,16],\n",
    "    'lr': [1e-2,1e-3], \n",
    "    'epochs': 100, \n",
    "    'batch_size': 512\n",
    "}"
   ]
  },
  {
   "cell_type": "code",
   "execution_count": 6,
   "metadata": {
    "scrolled": true
   },
   "outputs": [
    {
     "name": "stdout",
     "output_type": "stream",
     "text": [
      "\n",
      "16 trials detected for ('unit_1', 'unit_2', 'unit_hid', 'lr', 'epochs', 'batch_size')\n",
      "\n",
      "***** (1/16) *****\n",
      "Search({'unit_1': 128, 'unit_2': 64, 'unit_hid': 32, 'lr': 0.01, 'epochs': 100, 'batch_size': 512})\n",
      "Restoring model weights from the end of the best epoch.\n",
      "Epoch 00012: early stopping\n",
      "SCORE: 0.22427 at epoch 7\n",
      "\n",
      "***** (2/16) *****\n",
      "Search({'unit_1': 128, 'unit_2': 64, 'unit_hid': 32, 'lr': 0.001, 'epochs': 100, 'batch_size': 512})\n",
      "Restoring model weights from the end of the best epoch.\n",
      "Epoch 00026: early stopping\n",
      "SCORE: 0.2332 at epoch 24\n",
      "\n",
      "***** (3/16) *****\n",
      "Search({'unit_1': 128, 'unit_2': 64, 'unit_hid': 16, 'lr': 0.01, 'epochs': 100, 'batch_size': 512})\n",
      "Restoring model weights from the end of the best epoch.\n",
      "Epoch 00012: early stopping\n",
      "SCORE: 0.26374 at epoch 7\n",
      "\n",
      "***** (4/16) *****\n",
      "Search({'unit_1': 128, 'unit_2': 64, 'unit_hid': 16, 'lr': 0.001, 'epochs': 100, 'batch_size': 512})\n",
      "Restoring model weights from the end of the best epoch.\n",
      "Epoch 00029: early stopping\n",
      "SCORE: 0.23569 at epoch 29\n",
      "\n",
      "***** (5/16) *****\n",
      "Search({'unit_1': 128, 'unit_2': 32, 'unit_hid': 32, 'lr': 0.01, 'epochs': 100, 'batch_size': 512})\n",
      "Restoring model weights from the end of the best epoch.\n",
      "Epoch 00015: early stopping\n",
      "SCORE: 0.25271 at epoch 10\n",
      "\n",
      "***** (6/16) *****\n",
      "Search({'unit_1': 128, 'unit_2': 32, 'unit_hid': 32, 'lr': 0.001, 'epochs': 100, 'batch_size': 512})\n",
      "Restoring model weights from the end of the best epoch.\n",
      "Epoch 00029: early stopping\n",
      "SCORE: 0.23084 at epoch 24\n",
      "\n",
      "***** (7/16) *****\n",
      "Search({'unit_1': 128, 'unit_2': 32, 'unit_hid': 16, 'lr': 0.01, 'epochs': 100, 'batch_size': 512})\n",
      "Restoring model weights from the end of the best epoch.\n",
      "Epoch 00018: early stopping\n",
      "SCORE: 0.29183 at epoch 13\n",
      "\n",
      "***** (8/16) *****\n",
      "Search({'unit_1': 128, 'unit_2': 32, 'unit_hid': 16, 'lr': 0.001, 'epochs': 100, 'batch_size': 512})\n",
      "Restoring model weights from the end of the best epoch.\n",
      "Epoch 00029: early stopping\n",
      "SCORE: 0.2333 at epoch 28\n",
      "\n",
      "***** (9/16) *****\n",
      "Search({'unit_1': 64, 'unit_2': 64, 'unit_hid': 32, 'lr': 0.01, 'epochs': 100, 'batch_size': 512})\n",
      "Restoring model weights from the end of the best epoch.\n",
      "Epoch 00013: early stopping\n",
      "SCORE: 0.24856 at epoch 8\n",
      "\n",
      "***** (10/16) *****\n",
      "Search({'unit_1': 64, 'unit_2': 64, 'unit_hid': 32, 'lr': 0.001, 'epochs': 100, 'batch_size': 512})\n",
      "Restoring model weights from the end of the best epoch.\n",
      "Epoch 00029: early stopping\n",
      "SCORE: 0.23422 at epoch 24\n",
      "\n",
      "***** (11/16) *****\n",
      "Search({'unit_1': 64, 'unit_2': 64, 'unit_hid': 16, 'lr': 0.01, 'epochs': 100, 'batch_size': 512})\n",
      "Restoring model weights from the end of the best epoch.\n",
      "Epoch 00013: early stopping\n",
      "SCORE: 0.26177 at epoch 8\n",
      "\n",
      "***** (12/16) *****\n",
      "Search({'unit_1': 64, 'unit_2': 64, 'unit_hid': 16, 'lr': 0.001, 'epochs': 100, 'batch_size': 512})\n",
      "Restoring model weights from the end of the best epoch.\n",
      "Epoch 00029: early stopping\n",
      "SCORE: 0.25652 at epoch 24\n",
      "\n",
      "***** (13/16) *****\n",
      "Search({'unit_1': 64, 'unit_2': 32, 'unit_hid': 32, 'lr': 0.01, 'epochs': 100, 'batch_size': 512})\n",
      "Restoring model weights from the end of the best epoch.\n",
      "Epoch 00015: early stopping\n",
      "SCORE: 0.24808 at epoch 10\n",
      "\n",
      "***** (14/16) *****\n",
      "Search({'unit_1': 64, 'unit_2': 32, 'unit_hid': 32, 'lr': 0.001, 'epochs': 100, 'batch_size': 512})\n",
      "Restoring model weights from the end of the best epoch.\n",
      "Epoch 00034: early stopping\n",
      "SCORE: 0.24891 at epoch 29\n",
      "\n",
      "***** (15/16) *****\n",
      "Search({'unit_1': 64, 'unit_2': 32, 'unit_hid': 16, 'lr': 0.01, 'epochs': 100, 'batch_size': 512})\n",
      "Restoring model weights from the end of the best epoch.\n",
      "Epoch 00015: early stopping\n",
      "SCORE: 0.2828 at epoch 10\n",
      "\n",
      "***** (16/16) *****\n",
      "Search({'unit_1': 64, 'unit_2': 32, 'unit_hid': 16, 'lr': 0.001, 'epochs': 100, 'batch_size': 512})\n",
      "Restoring model weights from the end of the best epoch.\n",
      "Epoch 00035: early stopping\n",
      "SCORE: 0.26808 at epoch 32\n"
     ]
    },
    {
     "data": {
      "text/plain": [
       "<kerashypetune.KerasGridSearch>"
      ]
     },
     "execution_count": 6,
     "metadata": {},
     "output_type": "execute_result"
    }
   ],
   "source": [
    "es = EarlyStopping(patience=5, verbose=1, min_delta=0.001, monitor='val_loss', mode='auto', restore_best_weights=True)\n",
    "\n",
    "hypermodel = get_model\n",
    "\n",
    "kgs = KerasGridSearch(hypermodel, param_grid, monitor='val_loss', greater_is_better=False, tuner_verbose=1)\n",
    "kgs.search(x_train, [x_train,y_train], validation_data=(x_test, [x_test,y_test]), callbacks=[es])"
   ]
  },
  {
   "cell_type": "code",
   "execution_count": 7,
   "metadata": {},
   "outputs": [
    {
     "name": "stdout",
     "output_type": "stream",
     "text": [
      "[0.22427, 0.2332, 0.26374, 0.23569, 0.25271, 0.23084, 0.29183, 0.2333, 0.24856, 0.23422, 0.26177, 0.25652, 0.24808, 0.24891, 0.2828, 0.26808]\n"
     ]
    }
   ],
   "source": [
    "print(kgs.scores)"
   ]
  },
  {
   "cell_type": "code",
   "execution_count": 8,
   "metadata": {},
   "outputs": [
    {
     "data": {
      "text/plain": [
       "0.22427"
      ]
     },
     "execution_count": 8,
     "metadata": {},
     "output_type": "execute_result"
    }
   ],
   "source": [
    "kgs.best_score"
   ]
  },
  {
   "cell_type": "code",
   "execution_count": 9,
   "metadata": {},
   "outputs": [
    {
     "data": {
      "text/plain": [
       "{'unit_1': 128,\n",
       " 'unit_2': 64,\n",
       " 'unit_hid': 32,\n",
       " 'lr': 0.01,\n",
       " 'epochs': 7,\n",
       " 'batch_size': 512,\n",
       " 'steps_per_epoch': 12}"
      ]
     },
     "execution_count": 9,
     "metadata": {},
     "output_type": "execute_result"
    }
   ],
   "source": [
    "kgs.best_params"
   ]
  },
  {
   "cell_type": "code",
   "execution_count": 10,
   "metadata": {},
   "outputs": [
    {
     "data": {
      "text/plain": [
       "<tensorflow.python.keras.engine.functional.Functional at 0x128682fe160>"
      ]
     },
     "execution_count": 10,
     "metadata": {},
     "output_type": "execute_result"
    }
   ],
   "source": [
    "kgs.best_model"
   ]
  },
  {
   "cell_type": "markdown",
   "metadata": {},
   "source": [
    "# Multi Input"
   ]
  },
  {
   "cell_type": "code",
   "execution_count": 11,
   "metadata": {},
   "outputs": [],
   "source": [
    "def create_pairs(X,y, n_pairs=1):\n",
    "\n",
    "    pairs, targets = [], []\n",
    "\n",
    "    for i in range(len(y)):\n",
    "        for _ in range(n_pairs):\n",
    "            compare_to = i\n",
    "            while compare_to == i:\n",
    "                compare_to = random.randint(0,len(y)-1)\n",
    "            pairs.append([X[i],X[compare_to]])\n",
    "            if y[i] == y[compare_to]: # They are the same\n",
    "                targets.append(1.)\n",
    "            else:# Not the same\n",
    "                targets.append(0.)\n",
    "                \n",
    "    pairs = np.asarray(pairs).transpose(1,0,2,3)\n",
    "    targets = np.asarray(targets)\n",
    "\n",
    "    return pairs, targets"
   ]
  },
  {
   "cell_type": "code",
   "execution_count": 12,
   "metadata": {},
   "outputs": [
    {
     "name": "stdout",
     "output_type": "stream",
     "text": [
      "(2, 6036, 28, 28) (6036,)\n",
      "(2, 2963, 28, 28) (2963,)\n"
     ]
    }
   ],
   "source": [
    "np.random.seed(33)\n",
    "random.seed(33)\n",
    "\n",
    "train_pairs, train_y = create_pairs(x_train, y_train)\n",
    "print(train_pairs.shape, train_y.shape)\n",
    "\n",
    "test_pairs, test_y = create_pairs(x_test, y_test)\n",
    "print(test_pairs.shape, test_y.shape)"
   ]
  },
  {
   "cell_type": "code",
   "execution_count": 13,
   "metadata": {},
   "outputs": [],
   "source": [
    "def get_model(param):\n",
    "    \n",
    "    set_seed(33)\n",
    "    \n",
    "    left_input = Input((28,28))\n",
    "    right_input = Input((28,28))\n",
    "\n",
    "    shared = Sequential([\n",
    "        Flatten(),\n",
    "        Dense(param['unit_1'], activation=param['activ']),\n",
    "        Dense(param['unit_2'], activation=param['activ']),\n",
    "    ])\n",
    "\n",
    "    encoded_l = shared(left_input)\n",
    "    encoded_r = shared(right_input)\n",
    "\n",
    "    L1_layer = Lambda(lambda tensor: tf.abs(tensor[0] - tensor[1]))\n",
    "\n",
    "    L1_distance = L1_layer([encoded_l, encoded_r])\n",
    "    out = Dense(1, activation='sigmoid')(L1_distance)\n",
    "    \n",
    "    model = Model([left_input,right_input], out)\n",
    "    model.compile(optimizer=Adam(lr=param['lr']), \n",
    "                  loss=\"binary_crossentropy\",\n",
    "                  metrics=['accuracy'])\n",
    "    \n",
    "    return model"
   ]
  },
  {
   "cell_type": "code",
   "execution_count": 14,
   "metadata": {},
   "outputs": [],
   "source": [
    "param_grid = {\n",
    "    'unit_1': [128,64], \n",
    "    'unit_2': [64,32],\n",
    "    'activ' : ['relu','elu'],\n",
    "    'lr': [1e-2,1e-3], \n",
    "    'epochs': 100, \n",
    "    'batch_size': [256,512]\n",
    "}"
   ]
  },
  {
   "cell_type": "code",
   "execution_count": 15,
   "metadata": {},
   "outputs": [
    {
     "name": "stdout",
     "output_type": "stream",
     "text": [
      "\n",
      "32 trials detected for ('unit_1', 'unit_2', 'activ', 'lr', 'epochs', 'batch_size')\n",
      "\n",
      "***** (1/32) *****\n",
      "Search({'unit_1': 128, 'unit_2': 64, 'activ': 'relu', 'lr': 0.01, 'epochs': 100, 'batch_size': 256})\n",
      "Restoring model weights from the end of the best epoch.\n",
      "Epoch 00008: early stopping\n",
      "SCORE: 0.18378 at epoch 3\n",
      "\n",
      "***** (2/32) *****\n",
      "Search({'unit_1': 128, 'unit_2': 64, 'activ': 'relu', 'lr': 0.01, 'epochs': 100, 'batch_size': 512})\n",
      "Restoring model weights from the end of the best epoch.\n",
      "Epoch 00011: early stopping\n",
      "SCORE: 0.18168 at epoch 6\n",
      "\n",
      "***** (3/32) *****\n",
      "Search({'unit_1': 128, 'unit_2': 64, 'activ': 'relu', 'lr': 0.001, 'epochs': 100, 'batch_size': 256})\n",
      "Restoring model weights from the end of the best epoch.\n",
      "Epoch 00017: early stopping\n",
      "SCORE: 0.16768 at epoch 12\n",
      "\n",
      "***** (4/32) *****\n",
      "Search({'unit_1': 128, 'unit_2': 64, 'activ': 'relu', 'lr': 0.001, 'epochs': 100, 'batch_size': 512})\n",
      "Restoring model weights from the end of the best epoch.\n",
      "Epoch 00025: early stopping\n",
      "SCORE: 0.17568 at epoch 20\n",
      "\n",
      "***** (5/32) *****\n",
      "Search({'unit_1': 128, 'unit_2': 64, 'activ': 'elu', 'lr': 0.01, 'epochs': 100, 'batch_size': 256})\n",
      "Restoring model weights from the end of the best epoch.\n",
      "Epoch 00008: early stopping\n",
      "SCORE: 0.1787 at epoch 3\n",
      "\n",
      "***** (6/32) *****\n",
      "Search({'unit_1': 128, 'unit_2': 64, 'activ': 'elu', 'lr': 0.01, 'epochs': 100, 'batch_size': 512})\n",
      "Restoring model weights from the end of the best epoch.\n",
      "Epoch 00008: early stopping\n",
      "SCORE: 0.17906 at epoch 3\n",
      "\n",
      "***** (7/32) *****\n",
      "Search({'unit_1': 128, 'unit_2': 64, 'activ': 'elu', 'lr': 0.001, 'epochs': 100, 'batch_size': 256})\n",
      "Restoring model weights from the end of the best epoch.\n",
      "Epoch 00014: early stopping\n",
      "SCORE: 0.18686 at epoch 9\n",
      "\n",
      "***** (8/32) *****\n",
      "Search({'unit_1': 128, 'unit_2': 64, 'activ': 'elu', 'lr': 0.001, 'epochs': 100, 'batch_size': 512})\n",
      "Restoring model weights from the end of the best epoch.\n",
      "Epoch 00016: early stopping\n",
      "SCORE: 0.19279 at epoch 12\n",
      "\n",
      "***** (9/32) *****\n",
      "Search({'unit_1': 128, 'unit_2': 32, 'activ': 'relu', 'lr': 0.01, 'epochs': 100, 'batch_size': 256})\n",
      "Restoring model weights from the end of the best epoch.\n",
      "Epoch 00011: early stopping\n",
      "SCORE: 0.18653 at epoch 6\n",
      "\n",
      "***** (10/32) *****\n",
      "Search({'unit_1': 128, 'unit_2': 32, 'activ': 'relu', 'lr': 0.01, 'epochs': 100, 'batch_size': 512})\n",
      "Restoring model weights from the end of the best epoch.\n",
      "Epoch 00021: early stopping\n",
      "SCORE: 0.18344 at epoch 16\n",
      "\n",
      "***** (11/32) *****\n",
      "Search({'unit_1': 128, 'unit_2': 32, 'activ': 'relu', 'lr': 0.001, 'epochs': 100, 'batch_size': 256})\n",
      "Restoring model weights from the end of the best epoch.\n",
      "Epoch 00017: early stopping\n",
      "SCORE: 0.18323 at epoch 12\n",
      "\n",
      "***** (12/32) *****\n",
      "Search({'unit_1': 128, 'unit_2': 32, 'activ': 'relu', 'lr': 0.001, 'epochs': 100, 'batch_size': 512})\n",
      "Restoring model weights from the end of the best epoch.\n",
      "Epoch 00027: early stopping\n",
      "SCORE: 0.17574 at epoch 22\n",
      "\n",
      "***** (13/32) *****\n",
      "Search({'unit_1': 128, 'unit_2': 32, 'activ': 'elu', 'lr': 0.01, 'epochs': 100, 'batch_size': 256})\n",
      "Restoring model weights from the end of the best epoch.\n",
      "Epoch 00008: early stopping\n",
      "SCORE: 0.17126 at epoch 3\n",
      "\n",
      "***** (14/32) *****\n",
      "Search({'unit_1': 128, 'unit_2': 32, 'activ': 'elu', 'lr': 0.01, 'epochs': 100, 'batch_size': 512})\n",
      "Restoring model weights from the end of the best epoch.\n",
      "Epoch 00009: early stopping\n",
      "SCORE: 0.17232 at epoch 4\n",
      "\n",
      "***** (15/32) *****\n",
      "Search({'unit_1': 128, 'unit_2': 32, 'activ': 'elu', 'lr': 0.001, 'epochs': 100, 'batch_size': 256})\n",
      "Restoring model weights from the end of the best epoch.\n",
      "Epoch 00014: early stopping\n",
      "SCORE: 0.19072 at epoch 10\n",
      "\n",
      "***** (16/32) *****\n",
      "Search({'unit_1': 128, 'unit_2': 32, 'activ': 'elu', 'lr': 0.001, 'epochs': 100, 'batch_size': 512})\n",
      "Restoring model weights from the end of the best epoch.\n",
      "Epoch 00018: early stopping\n",
      "SCORE: 0.20002 at epoch 14\n",
      "\n",
      "***** (17/32) *****\n",
      "Search({'unit_1': 64, 'unit_2': 64, 'activ': 'relu', 'lr': 0.01, 'epochs': 100, 'batch_size': 256})\n",
      "Restoring model weights from the end of the best epoch.\n",
      "Epoch 00010: early stopping\n",
      "SCORE: 0.18135 at epoch 5\n",
      "\n",
      "***** (18/32) *****\n",
      "Search({'unit_1': 64, 'unit_2': 64, 'activ': 'relu', 'lr': 0.01, 'epochs': 100, 'batch_size': 512})\n",
      "Restoring model weights from the end of the best epoch.\n",
      "Epoch 00010: early stopping\n",
      "SCORE: 0.17467 at epoch 5\n",
      "\n",
      "***** (19/32) *****\n",
      "Search({'unit_1': 64, 'unit_2': 64, 'activ': 'relu', 'lr': 0.001, 'epochs': 100, 'batch_size': 256})\n",
      "Restoring model weights from the end of the best epoch.\n",
      "Epoch 00018: early stopping\n",
      "SCORE: 0.18343 at epoch 13\n",
      "\n",
      "***** (20/32) *****\n",
      "Search({'unit_1': 64, 'unit_2': 64, 'activ': 'relu', 'lr': 0.001, 'epochs': 100, 'batch_size': 512})\n",
      "Restoring model weights from the end of the best epoch.\n",
      "Epoch 00025: early stopping\n",
      "SCORE: 0.1851 at epoch 22\n",
      "\n",
      "***** (21/32) *****\n",
      "Search({'unit_1': 64, 'unit_2': 64, 'activ': 'elu', 'lr': 0.01, 'epochs': 100, 'batch_size': 256})\n",
      "Restoring model weights from the end of the best epoch.\n",
      "Epoch 00008: early stopping\n",
      "SCORE: 0.1742 at epoch 3\n",
      "\n",
      "***** (22/32) *****\n",
      "Search({'unit_1': 64, 'unit_2': 64, 'activ': 'elu', 'lr': 0.01, 'epochs': 100, 'batch_size': 512})\n",
      "Restoring model weights from the end of the best epoch.\n",
      "Epoch 00010: early stopping\n",
      "SCORE: 0.1817 at epoch 5\n",
      "\n",
      "***** (23/32) *****\n",
      "Search({'unit_1': 64, 'unit_2': 64, 'activ': 'elu', 'lr': 0.001, 'epochs': 100, 'batch_size': 256})\n",
      "Restoring model weights from the end of the best epoch.\n",
      "Epoch 00014: early stopping\n",
      "SCORE: 0.19459 at epoch 11\n",
      "\n",
      "***** (24/32) *****\n",
      "Search({'unit_1': 64, 'unit_2': 64, 'activ': 'elu', 'lr': 0.001, 'epochs': 100, 'batch_size': 512})\n",
      "Restoring model weights from the end of the best epoch.\n",
      "Epoch 00019: early stopping\n",
      "SCORE: 0.19545 at epoch 15\n",
      "\n",
      "***** (25/32) *****\n",
      "Search({'unit_1': 64, 'unit_2': 32, 'activ': 'relu', 'lr': 0.01, 'epochs': 100, 'batch_size': 256})\n",
      "Restoring model weights from the end of the best epoch.\n",
      "Epoch 00010: early stopping\n",
      "SCORE: 0.1916 at epoch 5\n",
      "\n",
      "***** (26/32) *****\n",
      "Search({'unit_1': 64, 'unit_2': 32, 'activ': 'relu', 'lr': 0.01, 'epochs': 100, 'batch_size': 512})\n",
      "Restoring model weights from the end of the best epoch.\n",
      "Epoch 00012: early stopping\n",
      "SCORE: 0.19075 at epoch 9\n",
      "\n",
      "***** (27/32) *****\n",
      "Search({'unit_1': 64, 'unit_2': 32, 'activ': 'relu', 'lr': 0.001, 'epochs': 100, 'batch_size': 256})\n",
      "Restoring model weights from the end of the best epoch.\n",
      "Epoch 00018: early stopping\n",
      "SCORE: 0.19666 at epoch 13\n",
      "\n",
      "***** (28/32) *****\n",
      "Search({'unit_1': 64, 'unit_2': 32, 'activ': 'relu', 'lr': 0.001, 'epochs': 100, 'batch_size': 512})\n",
      "Restoring model weights from the end of the best epoch.\n",
      "Epoch 00027: early stopping\n",
      "SCORE: 0.19022 at epoch 22\n",
      "\n",
      "***** (29/32) *****\n",
      "Search({'unit_1': 64, 'unit_2': 32, 'activ': 'elu', 'lr': 0.01, 'epochs': 100, 'batch_size': 256})\n",
      "Restoring model weights from the end of the best epoch.\n",
      "Epoch 00008: early stopping\n",
      "SCORE: 0.17806 at epoch 3\n",
      "\n",
      "***** (30/32) *****\n",
      "Search({'unit_1': 64, 'unit_2': 32, 'activ': 'elu', 'lr': 0.01, 'epochs': 100, 'batch_size': 512})\n",
      "Restoring model weights from the end of the best epoch.\n",
      "Epoch 00010: early stopping\n",
      "SCORE: 0.1804 at epoch 5\n",
      "\n",
      "***** (31/32) *****\n",
      "Search({'unit_1': 64, 'unit_2': 32, 'activ': 'elu', 'lr': 0.001, 'epochs': 100, 'batch_size': 256})\n",
      "Restoring model weights from the end of the best epoch.\n",
      "Epoch 00016: early stopping\n",
      "SCORE: 0.20165 at epoch 11\n",
      "\n",
      "***** (32/32) *****\n",
      "Search({'unit_1': 64, 'unit_2': 32, 'activ': 'elu', 'lr': 0.001, 'epochs': 100, 'batch_size': 512})\n",
      "Restoring model weights from the end of the best epoch.\n",
      "Epoch 00021: early stopping\n",
      "SCORE: 0.20478 at epoch 16\n"
     ]
    },
    {
     "data": {
      "text/plain": [
       "<kerashypetune.KerasGridSearch>"
      ]
     },
     "execution_count": 15,
     "metadata": {},
     "output_type": "execute_result"
    }
   ],
   "source": [
    "es = EarlyStopping(patience=5, verbose=1, min_delta=0.001, monitor='val_loss', mode='auto', restore_best_weights=True)\n",
    "\n",
    "hypermodel = get_model\n",
    "\n",
    "kgs = KerasGridSearch(hypermodel, param_grid, monitor='val_loss', greater_is_better=False, tuner_verbose=1)\n",
    "kgs.search([train_pairs[0],train_pairs[1]], train_y, validation_data=([test_pairs[0],test_pairs[1]], test_y), callbacks=[es])"
   ]
  },
  {
   "cell_type": "code",
   "execution_count": 16,
   "metadata": {},
   "outputs": [
    {
     "name": "stdout",
     "output_type": "stream",
     "text": [
      "[0.18378, 0.18168, 0.16768, 0.17568, 0.1787, 0.17906, 0.18686, 0.19279, 0.18653, 0.18344, 0.18323, 0.17574, 0.17126, 0.17232, 0.19072, 0.20002, 0.18135, 0.17467, 0.18343, 0.1851, 0.1742, 0.1817, 0.19459, 0.19545, 0.1916, 0.19075, 0.19666, 0.19022, 0.17806, 0.1804, 0.20165, 0.20478]\n"
     ]
    }
   ],
   "source": [
    "print(kgs.scores)"
   ]
  },
  {
   "cell_type": "code",
   "execution_count": 17,
   "metadata": {},
   "outputs": [
    {
     "data": {
      "text/plain": [
       "0.16768"
      ]
     },
     "execution_count": 17,
     "metadata": {},
     "output_type": "execute_result"
    }
   ],
   "source": [
    "kgs.best_score"
   ]
  },
  {
   "cell_type": "code",
   "execution_count": 18,
   "metadata": {},
   "outputs": [
    {
     "data": {
      "text/plain": [
       "{'unit_1': 128,\n",
       " 'unit_2': 64,\n",
       " 'activ': 'relu',\n",
       " 'lr': 0.001,\n",
       " 'epochs': 12,\n",
       " 'batch_size': 256,\n",
       " 'steps_per_epoch': 24}"
      ]
     },
     "execution_count": 18,
     "metadata": {},
     "output_type": "execute_result"
    }
   ],
   "source": [
    "kgs.best_params"
   ]
  },
  {
   "cell_type": "code",
   "execution_count": 19,
   "metadata": {},
   "outputs": [
    {
     "data": {
      "text/plain": [
       "<tensorflow.python.keras.engine.functional.Functional at 0x1280043c2e8>"
      ]
     },
     "execution_count": 19,
     "metadata": {},
     "output_type": "execute_result"
    }
   ],
   "source": [
    "kgs.best_model"
   ]
  }
 ],
 "metadata": {
  "kernelspec": {
   "display_name": "Python 3",
   "language": "python",
   "name": "python3"
  },
  "language_info": {
   "codemirror_mode": {
    "name": "ipython",
    "version": 3
   },
   "file_extension": ".py",
   "mimetype": "text/x-python",
   "name": "python",
   "nbconvert_exporter": "python",
   "pygments_lexer": "ipython3",
   "version": "3.7.4"
  }
 },
 "nbformat": 4,
 "nbformat_minor": 2
}
