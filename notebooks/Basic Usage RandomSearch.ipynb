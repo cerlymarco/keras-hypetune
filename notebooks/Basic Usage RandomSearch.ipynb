{
 "cells": [
  {
   "cell_type": "code",
   "execution_count": 1,
   "metadata": {},
   "outputs": [],
   "source": [
    "import os\n",
    "import random\n",
    "import numpy as np\n",
    "\n",
    "import tensorflow as tf\n",
    "from tensorflow.keras.layers import *\n",
    "from tensorflow.keras.models import *\n",
    "from tensorflow.keras.callbacks import *\n",
    "from tensorflow.keras.optimizers import Adam\n",
    "from tensorflow.keras.preprocessing.image import ImageDataGenerator\n",
    "\n",
    "from scipy import stats\n",
    "from sklearn.model_selection import KFold\n",
    "\n",
    "from kerashypetune import KerasRandomSearch, KerasRandomSearchCV"
   ]
  },
  {
   "cell_type": "code",
   "execution_count": 2,
   "metadata": {},
   "outputs": [],
   "source": [
    "def set_seed(seed):\n",
    "    \n",
    "    tf.random.set_seed(seed)\n",
    "    os.environ['PYTHONHASHSEED'] = str(seed)\n",
    "    np.random.seed(seed)\n",
    "    random.seed(seed)"
   ]
  },
  {
   "cell_type": "code",
   "execution_count": 3,
   "metadata": {},
   "outputs": [
    {
     "data": {
      "text/plain": [
       "((6036, 28, 28), (6036,), (2963, 28, 28), (2963,))"
      ]
     },
     "execution_count": 3,
     "metadata": {},
     "output_type": "execute_result"
    }
   ],
   "source": [
    "(x_train, y_train), (x_test, y_test) = tf.keras.datasets.mnist.load_data()\n",
    "\n",
    "np.random.seed(33)\n",
    "subset_train = np.random.uniform(0,1, len(y_train))\n",
    "subset_test = np.random.uniform(0,1, len(y_test))\n",
    "\n",
    "x_train = x_train[subset_train < 0.1] / 255\n",
    "y_train = y_train[subset_train < 0.1]\n",
    "\n",
    "x_test = x_test[subset_test < 0.3] / 255\n",
    "y_test = y_test[subset_test < 0.3]\n",
    "\n",
    "x_train.shape, y_train.shape, x_test.shape, y_test.shape"
   ]
  },
  {
   "cell_type": "code",
   "execution_count": 4,
   "metadata": {},
   "outputs": [],
   "source": [
    "def get_model(param):\n",
    "    \n",
    "    set_seed(33)\n",
    "        \n",
    "    model = Sequential()\n",
    "    model.add(Flatten())\n",
    "    model.add(Dense(param['unit_1'], activation='relu'))\n",
    "    model.add(Dense(param['unit_2'], activation='relu'))\n",
    "    model.add(Dense(10, activation='softmax'))\n",
    "    model.compile(optimizer=Adam(learning_rate=param['lr']), \n",
    "                  loss='sparse_categorical_crossentropy',\n",
    "                  metrics=['accuracy'])\n",
    "    \n",
    "    return model"
   ]
  },
  {
   "cell_type": "code",
   "execution_count": 5,
   "metadata": {},
   "outputs": [],
   "source": [
    "param_grid = {\n",
    "    'unit_1': [128,64], \n",
    "    'unit_2': stats.randint(32, 128),\n",
    "    'lr': stats.loguniform(1e-4, 0.1), \n",
    "    'epochs': 100, \n",
    "    'batch_size': 512\n",
    "}"
   ]
  },
  {
   "cell_type": "markdown",
   "metadata": {},
   "source": [
    "# Fixed validation search"
   ]
  },
  {
   "cell_type": "code",
   "execution_count": 6,
   "metadata": {},
   "outputs": [
    {
     "name": "stdout",
     "output_type": "stream",
     "text": [
      "\n",
      "15 trials detected for ('unit_1', 'unit_2', 'lr', 'epochs', 'batch_size')\n",
      "\n",
      "***** (1/15) *****\n",
      "Search({'unit_1': 128, 'unit_2': 52, 'lr': 0.0005565835702925923, 'epochs': 100, 'batch_size': 512})\n",
      "Restoring model weights from the end of the best epoch.\n",
      "Epoch 00061: early stopping\n",
      "SCORE: 0.94634 at epoch 55\n",
      "\n",
      "***** (2/15) *****\n",
      "Search({'unit_1': 64, 'unit_2': 65, 'lr': 0.00013052239753580174, 'epochs': 100, 'batch_size': 512})\n",
      "SCORE: 0.92845 at epoch 100\n",
      "\n",
      "***** (3/15) *****\n",
      "Search({'unit_1': 64, 'unit_2': 105, 'lr': 0.0023668178974410024, 'epochs': 100, 'batch_size': 512})\n",
      "Restoring model weights from the end of the best epoch.\n",
      "Epoch 00040: early stopping\n",
      "SCORE: 0.93858 at epoch 30\n",
      "\n",
      "***** (4/15) *****\n",
      "Search({'unit_1': 128, 'unit_2': 37, 'lr': 0.015329273569045341, 'epochs': 100, 'batch_size': 512})\n",
      "Restoring model weights from the end of the best epoch.\n",
      "Epoch 00030: early stopping\n",
      "SCORE: 0.95444 at epoch 20\n",
      "\n",
      "***** (5/15) *****\n",
      "Search({'unit_1': 64, 'unit_2': 47, 'lr': 0.0681537581148546, 'epochs': 100, 'batch_size': 512})\n",
      "Restoring model weights from the end of the best epoch.\n",
      "Epoch 00028: early stopping\n",
      "SCORE: 0.90753 at epoch 23\n",
      "\n",
      "***** (6/15) *****\n",
      "Search({'unit_1': 64, 'unit_2': 65, 'lr': 0.0014266563000201306, 'epochs': 100, 'batch_size': 512})\n",
      "Restoring model weights from the end of the best epoch.\n",
      "Epoch 00031: early stopping\n",
      "SCORE: 0.93824 at epoch 21\n",
      "\n",
      "***** (7/15) *****\n",
      "Search({'unit_1': 128, 'unit_2': 41, 'lr': 0.004371872304807245, 'epochs': 100, 'batch_size': 512})\n",
      "Restoring model weights from the end of the best epoch.\n",
      "Epoch 00025: early stopping\n",
      "SCORE: 0.94803 at epoch 21\n",
      "\n",
      "***** (8/15) *****\n",
      "Search({'unit_1': 64, 'unit_2': 102, 'lr': 0.0016713256725139364, 'epochs': 100, 'batch_size': 512})\n",
      "Restoring model weights from the end of the best epoch.\n",
      "Epoch 00042: early stopping\n",
      "SCORE: 0.94533 at epoch 32\n",
      "\n",
      "***** (9/15) *****\n",
      "Search({'unit_1': 128, 'unit_2': 96, 'lr': 0.0005659406265053385, 'epochs': 100, 'batch_size': 512})\n",
      "Restoring model weights from the end of the best epoch.\n",
      "Epoch 00074: early stopping\n",
      "SCORE: 0.95039 at epoch 64\n",
      "\n",
      "***** (10/15) *****\n",
      "Search({'unit_1': 64, 'unit_2': 83, 'lr': 0.0013292918943162162, 'epochs': 100, 'batch_size': 512})\n",
      "Restoring model weights from the end of the best epoch.\n",
      "Epoch 00034: early stopping\n",
      "SCORE: 0.94094 at epoch 29\n",
      "\n",
      "***** (11/15) *****\n",
      "Search({'unit_1': 64, 'unit_2': 100, 'lr': 0.00022139290514335152, 'epochs': 100, 'batch_size': 512})\n",
      "Restoring model weights from the end of the best epoch.\n",
      "Epoch 00085: early stopping\n",
      "SCORE: 0.93925 at epoch 81\n",
      "\n",
      "***** (12/15) *****\n",
      "Search({'unit_1': 64, 'unit_2': 52, 'lr': 0.031954089406218945, 'epochs': 100, 'batch_size': 512})\n",
      "Restoring model weights from the end of the best epoch.\n",
      "Epoch 00020: early stopping\n",
      "SCORE: 0.93689 at epoch 10\n",
      "\n",
      "***** (13/15) *****\n",
      "Search({'unit_1': 128, 'unit_2': 107, 'lr': 0.09269035391921808, 'epochs': 100, 'batch_size': 512})\n",
      "Restoring model weights from the end of the best epoch.\n",
      "Epoch 00059: early stopping\n",
      "SCORE: 0.77759 at epoch 49\n",
      "\n",
      "***** (14/15) *****\n",
      "Search({'unit_1': 64, 'unit_2': 93, 'lr': 0.02246451529138593, 'epochs': 100, 'batch_size': 512})\n",
      "Restoring model weights from the end of the best epoch.\n",
      "Epoch 00032: early stopping\n",
      "SCORE: 0.94398 at epoch 25\n",
      "\n",
      "***** (15/15) *****\n",
      "Search({'unit_1': 128, 'unit_2': 39, 'lr': 0.00021901074155610388, 'epochs': 100, 'batch_size': 512})\n",
      "Restoring model weights from the end of the best epoch.\n",
      "Epoch 00062: early stopping\n",
      "SCORE: 0.9379 at epoch 54\n"
     ]
    }
   ],
   "source": [
    "es = EarlyStopping(patience=10, verbose=1, min_delta=0.001, monitor='val_accuracy', mode='auto', restore_best_weights=True)\n",
    "\n",
    "hypermodel = get_model  \n",
    "# to pass external arguments to get_model use lambda function\n",
    "# ==> hypermodel = lambda x: get_model(param=x, ...)\n",
    "# callable(hypermodel) ==> True\n",
    "\n",
    "kgs = KerasRandomSearch(hypermodel, param_grid, n_iter=15, sampling_seed=33,\n",
    "                        monitor='val_accuracy', greater_is_better=True, tuner_verbose=1)\n",
    "kgs.search(x_train, y_train, validation_data=(x_test, y_test), callbacks=[es])"
   ]
  },
  {
   "cell_type": "code",
   "execution_count": 7,
   "metadata": {},
   "outputs": [
    {
     "data": {
      "text/plain": [
       "[0.94634,\n",
       " 0.92845,\n",
       " 0.93858,\n",
       " 0.95444,\n",
       " 0.90753,\n",
       " 0.93824,\n",
       " 0.94803,\n",
       " 0.94533,\n",
       " 0.95039,\n",
       " 0.94094,\n",
       " 0.93925,\n",
       " 0.93689,\n",
       " 0.77759,\n",
       " 0.94398,\n",
       " 0.9379]"
      ]
     },
     "execution_count": 7,
     "metadata": {},
     "output_type": "execute_result"
    }
   ],
   "source": [
    "kgs.scores"
   ]
  },
  {
   "cell_type": "code",
   "execution_count": 8,
   "metadata": {},
   "outputs": [
    {
     "data": {
      "text/plain": [
       "0.95444"
      ]
     },
     "execution_count": 8,
     "metadata": {},
     "output_type": "execute_result"
    }
   ],
   "source": [
    "kgs.best_score"
   ]
  },
  {
   "cell_type": "code",
   "execution_count": 9,
   "metadata": {},
   "outputs": [
    {
     "data": {
      "text/plain": [
       "{'unit_1': 128,\n",
       " 'unit_2': 37,\n",
       " 'lr': 0.015329273569045341,\n",
       " 'epochs': 20,\n",
       " 'batch_size': 512,\n",
       " 'steps_per_epoch': 12}"
      ]
     },
     "execution_count": 9,
     "metadata": {},
     "output_type": "execute_result"
    }
   ],
   "source": [
    "kgs.best_params"
   ]
  },
  {
   "cell_type": "code",
   "execution_count": 10,
   "metadata": {},
   "outputs": [
    {
     "data": {
      "text/plain": [
       "<tensorflow.python.keras.engine.sequential.Sequential at 0x28e88c032b0>"
      ]
     },
     "execution_count": 10,
     "metadata": {},
     "output_type": "execute_result"
    }
   ],
   "source": [
    "kgs.best_model"
   ]
  },
  {
   "cell_type": "markdown",
   "metadata": {},
   "source": [
    "# Fixed validation search Generator"
   ]
  },
  {
   "cell_type": "code",
   "execution_count": 11,
   "metadata": {},
   "outputs": [],
   "source": [
    "gen = ImageDataGenerator(\n",
    "         rotation_range=90,\n",
    "         width_shift_range=0.1,\n",
    "         height_shift_range=0.1,\n",
    "         zoom_range=0.2)"
   ]
  },
  {
   "cell_type": "code",
   "execution_count": 12,
   "metadata": {},
   "outputs": [
    {
     "name": "stdout",
     "output_type": "stream",
     "text": [
      "\n",
      "15 trials detected for ('unit_1', 'unit_2', 'lr', 'epochs', 'batch_size')\n",
      "\n",
      "***** (1/15) *****\n",
      "Search({'unit_1': 128, 'unit_2': 52, 'lr': 0.0005565835702925923, 'epochs': 100, 'batch_size': 512})\n",
      "Restoring model weights from the end of the best epoch.\n",
      "Epoch 00061: early stopping\n",
      "SCORE: 0.8785 at epoch 56\n",
      "\n",
      "***** (2/15) *****\n",
      "Search({'unit_1': 64, 'unit_2': 65, 'lr': 0.00013052239753580174, 'epochs': 100, 'batch_size': 512})\n",
      "SCORE: 0.77725 at epoch 99\n",
      "\n",
      "***** (3/15) *****\n",
      "Search({'unit_1': 64, 'unit_2': 105, 'lr': 0.0023668178974410024, 'epochs': 100, 'batch_size': 512})\n",
      "Restoring model weights from the end of the best epoch.\n",
      "Epoch 00040: early stopping\n",
      "SCORE: 0.87108 at epoch 35\n",
      "\n",
      "***** (4/15) *****\n",
      "Search({'unit_1': 128, 'unit_2': 37, 'lr': 0.015329273569045341, 'epochs': 100, 'batch_size': 512})\n",
      "Restoring model weights from the end of the best epoch.\n",
      "Epoch 00038: early stopping\n",
      "SCORE: 0.87344 at epoch 33\n",
      "\n",
      "***** (5/15) *****\n",
      "Search({'unit_1': 64, 'unit_2': 47, 'lr': 0.0681537581148546, 'epochs': 100, 'batch_size': 512})\n",
      "Restoring model weights from the end of the best epoch.\n",
      "Epoch 00017: early stopping\n",
      "SCORE: 0.32973 at epoch 12\n",
      "\n",
      "***** (6/15) *****\n",
      "Search({'unit_1': 64, 'unit_2': 65, 'lr': 0.0014266563000201306, 'epochs': 100, 'batch_size': 512})\n",
      "Restoring model weights from the end of the best epoch.\n",
      "Epoch 00042: early stopping\n",
      "SCORE: 0.8542 at epoch 37\n",
      "\n",
      "***** (7/15) *****\n",
      "Search({'unit_1': 128, 'unit_2': 41, 'lr': 0.004371872304807245, 'epochs': 100, 'batch_size': 512})\n",
      "Restoring model weights from the end of the best epoch.\n",
      "Epoch 00029: early stopping\n",
      "SCORE: 0.8974 at epoch 24\n",
      "\n",
      "***** (8/15) *****\n",
      "Search({'unit_1': 64, 'unit_2': 102, 'lr': 0.0016713256725139364, 'epochs': 100, 'batch_size': 512})\n",
      "Restoring model weights from the end of the best epoch.\n",
      "Epoch 00035: early stopping\n",
      "SCORE: 0.85555 at epoch 30\n",
      "\n",
      "***** (9/15) *****\n",
      "Search({'unit_1': 128, 'unit_2': 96, 'lr': 0.0005659406265053385, 'epochs': 100, 'batch_size': 512})\n",
      "Restoring model weights from the end of the best epoch.\n",
      "Epoch 00031: early stopping\n",
      "SCORE: 0.84813 at epoch 26\n",
      "\n",
      "***** (10/15) *****\n",
      "Search({'unit_1': 64, 'unit_2': 83, 'lr': 0.0013292918943162162, 'epochs': 100, 'batch_size': 512})\n",
      "Restoring model weights from the end of the best epoch.\n",
      "Epoch 00032: early stopping\n",
      "SCORE: 0.84475 at epoch 27\n",
      "\n",
      "***** (11/15) *****\n",
      "Search({'unit_1': 64, 'unit_2': 100, 'lr': 0.00022139290514335152, 'epochs': 100, 'batch_size': 512})\n",
      "Restoring model weights from the end of the best epoch.\n",
      "Epoch 00053: early stopping\n",
      "SCORE: 0.784 at epoch 50\n",
      "\n",
      "***** (12/15) *****\n",
      "Search({'unit_1': 64, 'unit_2': 52, 'lr': 0.031954089406218945, 'epochs': 100, 'batch_size': 512})\n",
      "Restoring model weights from the end of the best epoch.\n",
      "Epoch 00021: early stopping\n",
      "SCORE: 0.69389 at epoch 16\n",
      "\n",
      "***** (13/15) *****\n",
      "Search({'unit_1': 128, 'unit_2': 107, 'lr': 0.09269035391921808, 'epochs': 100, 'batch_size': 512})\n",
      "Restoring model weights from the end of the best epoch.\n",
      "Epoch 00015: early stopping\n",
      "SCORE: 0.15829 at epoch 10\n",
      "\n",
      "***** (14/15) *****\n",
      "Search({'unit_1': 64, 'unit_2': 93, 'lr': 0.02246451529138593, 'epochs': 100, 'batch_size': 512})\n",
      "Restoring model weights from the end of the best epoch.\n",
      "Epoch 00035: early stopping\n",
      "SCORE: 0.83598 at epoch 30\n",
      "\n",
      "***** (15/15) *****\n",
      "Search({'unit_1': 128, 'unit_2': 39, 'lr': 0.00021901074155610388, 'epochs': 100, 'batch_size': 512})\n",
      "Restoring model weights from the end of the best epoch.\n",
      "Epoch 00067: early stopping\n",
      "SCORE: 0.84543 at epoch 62\n"
     ]
    }
   ],
   "source": [
    "es = EarlyStopping(patience=5, verbose=1, min_delta=0.001, monitor='val_accuracy', mode='auto', restore_best_weights=True)\n",
    "\n",
    "hypermodel = get_model\n",
    "# to pass external arguments to get_model use lambda function\n",
    "# ==> hypermodel = lambda x: get_model(param=x, ...)\n",
    "# callable(hypermodel) ==> True\n",
    "\n",
    "kgs = KerasRandomSearch(hypermodel, param_grid, n_iter=15, sampling_seed=33,\n",
    "                        monitor='val_accuracy', greater_is_better=True, tuner_verbose=1)\n",
    "kgs.search(gen.flow(np.expand_dims(x_train,-1), y_train, batch_size=param_grid['batch_size'], seed=33), \n",
    "           validation_data=(np.expand_dims(x_test,-1), y_test), \n",
    "           callbacks=[es], steps_per_epoch=len(x_train)//param_grid['batch_size'])"
   ]
  },
  {
   "cell_type": "code",
   "execution_count": 13,
   "metadata": {},
   "outputs": [
    {
     "data": {
      "text/plain": [
       "[0.8785,\n",
       " 0.77725,\n",
       " 0.87108,\n",
       " 0.87344,\n",
       " 0.32973,\n",
       " 0.8542,\n",
       " 0.8974,\n",
       " 0.85555,\n",
       " 0.84813,\n",
       " 0.84475,\n",
       " 0.784,\n",
       " 0.69389,\n",
       " 0.15829,\n",
       " 0.83598,\n",
       " 0.84543]"
      ]
     },
     "execution_count": 13,
     "metadata": {},
     "output_type": "execute_result"
    }
   ],
   "source": [
    "kgs.scores"
   ]
  },
  {
   "cell_type": "code",
   "execution_count": 14,
   "metadata": {},
   "outputs": [
    {
     "data": {
      "text/plain": [
       "0.8974"
      ]
     },
     "execution_count": 14,
     "metadata": {},
     "output_type": "execute_result"
    }
   ],
   "source": [
    "kgs.best_score"
   ]
  },
  {
   "cell_type": "code",
   "execution_count": 15,
   "metadata": {},
   "outputs": [
    {
     "data": {
      "text/plain": [
       "{'unit_1': 128,\n",
       " 'unit_2': 41,\n",
       " 'lr': 0.004371872304807245,\n",
       " 'epochs': 24,\n",
       " 'batch_size': 512,\n",
       " 'steps_per_epoch': 11}"
      ]
     },
     "execution_count": 15,
     "metadata": {},
     "output_type": "execute_result"
    }
   ],
   "source": [
    "kgs.best_params"
   ]
  },
  {
   "cell_type": "code",
   "execution_count": 16,
   "metadata": {},
   "outputs": [
    {
     "data": {
      "text/plain": [
       "<tensorflow.python.keras.engine.sequential.Sequential at 0x28e8b1d3e10>"
      ]
     },
     "execution_count": 16,
     "metadata": {},
     "output_type": "execute_result"
    }
   ],
   "source": [
    "kgs.best_model"
   ]
  },
  {
   "cell_type": "markdown",
   "metadata": {},
   "source": [
    "# Cross validation search"
   ]
  },
  {
   "cell_type": "code",
   "execution_count": 17,
   "metadata": {},
   "outputs": [
    {
     "data": {
      "text/plain": [
       "((8999, 28, 28), (8999,))"
      ]
     },
     "execution_count": 17,
     "metadata": {},
     "output_type": "execute_result"
    }
   ],
   "source": [
    "X = np.concatenate([x_train, x_test])\n",
    "y = np.concatenate([y_train, y_test])\n",
    "\n",
    "X.shape, y.shape"
   ]
  },
  {
   "cell_type": "code",
   "execution_count": 18,
   "metadata": {},
   "outputs": [
    {
     "name": "stdout",
     "output_type": "stream",
     "text": [
      "\n",
      "##################\n",
      "###  Fold 001  ###\n",
      "##################\n",
      "\n",
      "5 trials detected for ('unit_1', 'unit_2', 'lr', 'epochs', 'batch_size')\n",
      "\n",
      "***** (1/5) *****\n",
      "Search({'unit_1': 128, 'unit_2': 52, 'lr': 0.0005565835702925923, 'epochs': 100, 'batch_size': 512})\n",
      "Restoring model weights from the end of the best epoch.\n",
      "Epoch 00055: early stopping\n",
      "SCORE: 0.93333 at epoch 45\n",
      "\n",
      "***** (2/5) *****\n",
      "Search({'unit_1': 64, 'unit_2': 65, 'lr': 0.00013052239753580174, 'epochs': 100, 'batch_size': 512})\n",
      "Restoring model weights from the end of the best epoch.\n",
      "Epoch 00091: early stopping\n",
      "SCORE: 0.924 at epoch 89\n",
      "\n",
      "***** (3/5) *****\n",
      "Search({'unit_1': 64, 'unit_2': 105, 'lr': 0.0023668178974410024, 'epochs': 100, 'batch_size': 512})\n",
      "Restoring model weights from the end of the best epoch.\n",
      "Epoch 00043: early stopping\n",
      "SCORE: 0.93967 at epoch 33\n",
      "\n",
      "***** (4/5) *****\n",
      "Search({'unit_1': 128, 'unit_2': 37, 'lr': 0.015329273569045341, 'epochs': 100, 'batch_size': 512})\n",
      "Restoring model weights from the end of the best epoch.\n",
      "Epoch 00023: early stopping\n",
      "SCORE: 0.94967 at epoch 13\n",
      "\n",
      "***** (5/5) *****\n",
      "Search({'unit_1': 64, 'unit_2': 47, 'lr': 0.0681537581148546, 'epochs': 100, 'batch_size': 512})\n",
      "Restoring model weights from the end of the best epoch.\n",
      "Epoch 00032: early stopping\n",
      "SCORE: 0.90233 at epoch 24\n",
      "\n",
      "##################\n",
      "###  Fold 002  ###\n",
      "##################\n",
      "\n",
      "5 trials detected for ('unit_1', 'unit_2', 'lr', 'epochs', 'batch_size')\n",
      "\n",
      "***** (1/5) *****\n",
      "Search({'unit_1': 128, 'unit_2': 52, 'lr': 0.0005565835702925923, 'epochs': 100, 'batch_size': 512})\n",
      "Restoring model weights from the end of the best epoch.\n",
      "Epoch 00042: early stopping\n",
      "SCORE: 0.94333 at epoch 42\n",
      "\n",
      "***** (2/5) *****\n",
      "Search({'unit_1': 64, 'unit_2': 65, 'lr': 0.00013052239753580174, 'epochs': 100, 'batch_size': 512})\n",
      "SCORE: 0.92267 at epoch 97\n",
      "\n",
      "***** (3/5) *****\n",
      "Search({'unit_1': 64, 'unit_2': 105, 'lr': 0.0023668178974410024, 'epochs': 100, 'batch_size': 512})\n",
      "Restoring model weights from the end of the best epoch.\n",
      "Epoch 00037: early stopping\n",
      "SCORE: 0.947 at epoch 27\n",
      "\n",
      "***** (4/5) *****\n",
      "Search({'unit_1': 128, 'unit_2': 37, 'lr': 0.015329273569045341, 'epochs': 100, 'batch_size': 512})\n",
      "Restoring model weights from the end of the best epoch.\n",
      "Epoch 00036: early stopping\n",
      "SCORE: 0.952 at epoch 30\n",
      "\n",
      "***** (5/5) *****\n",
      "Search({'unit_1': 64, 'unit_2': 47, 'lr': 0.0681537581148546, 'epochs': 100, 'batch_size': 512})\n",
      "Restoring model weights from the end of the best epoch.\n",
      "Epoch 00021: early stopping\n",
      "SCORE: 0.90167 at epoch 13\n",
      "\n",
      "##################\n",
      "###  Fold 003  ###\n",
      "##################\n",
      "\n",
      "5 trials detected for ('unit_1', 'unit_2', 'lr', 'epochs', 'batch_size')\n",
      "\n",
      "***** (1/5) *****\n",
      "Search({'unit_1': 128, 'unit_2': 52, 'lr': 0.0005565835702925923, 'epochs': 100, 'batch_size': 512})\n",
      "Restoring model weights from the end of the best epoch.\n",
      "Epoch 00056: early stopping\n",
      "SCORE: 0.94398 at epoch 52\n",
      "\n",
      "***** (2/5) *****\n",
      "Search({'unit_1': 64, 'unit_2': 65, 'lr': 0.00013052239753580174, 'epochs': 100, 'batch_size': 512})\n",
      "SCORE: 0.93164 at epoch 100\n",
      "\n",
      "***** (3/5) *****\n",
      "Search({'unit_1': 64, 'unit_2': 105, 'lr': 0.0023668178974410024, 'epochs': 100, 'batch_size': 512})\n",
      "Restoring model weights from the end of the best epoch.\n",
      "Epoch 00038: early stopping\n",
      "SCORE: 0.94498 at epoch 38\n",
      "\n",
      "***** (4/5) *****\n",
      "Search({'unit_1': 128, 'unit_2': 37, 'lr': 0.015329273569045341, 'epochs': 100, 'batch_size': 512})\n",
      "Restoring model weights from the end of the best epoch.\n",
      "Epoch 00036: early stopping\n",
      "SCORE: 0.95065 at epoch 28\n",
      "\n",
      "***** (5/5) *****\n",
      "Search({'unit_1': 64, 'unit_2': 47, 'lr': 0.0681537581148546, 'epochs': 100, 'batch_size': 512})\n",
      "Restoring model weights from the end of the best epoch.\n",
      "Epoch 00029: early stopping\n",
      "SCORE: 0.89163 at epoch 19\n"
     ]
    }
   ],
   "source": [
    "cv = KFold(n_splits=3, random_state=33, shuffle=True)\n",
    "\n",
    "es = EarlyStopping(patience=10, verbose=1, min_delta=0.001, monitor='val_accuracy', mode='auto', restore_best_weights=True)\n",
    "\n",
    "hypermodel = get_model\n",
    "# to pass external arguments to get_model use lambda function\n",
    "# ==> hypermodel = lambda x: get_model(param=x, ...)\n",
    "\n",
    "kgs = KerasRandomSearchCV(hypermodel, param_grid, cv=cv, n_iter=5, sampling_seed=33,\n",
    "                          monitor='val_accuracy', greater_is_better=True, tuner_verbose=1)\n",
    "kgs.search(X, y, callbacks=[es])"
   ]
  },
  {
   "cell_type": "code",
   "execution_count": 19,
   "metadata": {
    "scrolled": true
   },
   "outputs": [
    {
     "data": {
      "text/plain": [
       "{'fold 1': [0.93333, 0.924, 0.93967, 0.94967, 0.90233],\n",
       " 'fold 2': [0.94333, 0.92267, 0.947, 0.952, 0.90167],\n",
       " 'fold 3': [0.94398, 0.93164, 0.94498, 0.95065, 0.89163]}"
      ]
     },
     "execution_count": 19,
     "metadata": {},
     "output_type": "execute_result"
    }
   ],
   "source": [
    "kgs.folds_scores"
   ]
  },
  {
   "cell_type": "code",
   "execution_count": 20,
   "metadata": {},
   "outputs": [
    {
     "data": {
      "text/plain": [
       "{'fold 1': 0.94967, 'fold 2': 0.952, 'fold 3': 0.95065}"
      ]
     },
     "execution_count": 20,
     "metadata": {},
     "output_type": "execute_result"
    }
   ],
   "source": [
    "kgs.folds_best_score"
   ]
  },
  {
   "cell_type": "code",
   "execution_count": 21,
   "metadata": {},
   "outputs": [
    {
     "data": {
      "text/plain": [
       "{'fold 1': {'unit_1': 128,\n",
       "  'unit_2': 37,\n",
       "  'lr': 0.015329273569045341,\n",
       "  'epochs': 13,\n",
       "  'batch_size': 512,\n",
       "  'steps_per_epoch': 12},\n",
       " 'fold 2': {'unit_1': 128,\n",
       "  'unit_2': 37,\n",
       "  'lr': 0.015329273569045341,\n",
       "  'epochs': 30,\n",
       "  'batch_size': 512,\n",
       "  'steps_per_epoch': 12},\n",
       " 'fold 3': {'unit_1': 128,\n",
       "  'unit_2': 37,\n",
       "  'lr': 0.015329273569045341,\n",
       "  'epochs': 28,\n",
       "  'batch_size': 512,\n",
       "  'steps_per_epoch': 12}}"
      ]
     },
     "execution_count": 21,
     "metadata": {},
     "output_type": "execute_result"
    }
   ],
   "source": [
    "kgs.folds_best_params"
   ]
  },
  {
   "cell_type": "code",
   "execution_count": 22,
   "metadata": {},
   "outputs": [
    {
     "data": {
      "text/plain": [
       "{'fold 1': <tensorflow.python.keras.engine.sequential.Sequential at 0x28e8bd74ef0>,\n",
       " 'fold 2': <tensorflow.python.keras.engine.sequential.Sequential at 0x28e8bce36d8>,\n",
       " 'fold 3': <tensorflow.python.keras.engine.sequential.Sequential at 0x28e8a4350f0>}"
      ]
     },
     "execution_count": 22,
     "metadata": {},
     "output_type": "execute_result"
    }
   ],
   "source": [
    "kgs.folds_best_models"
   ]
  },
  {
   "cell_type": "code",
   "execution_count": 23,
   "metadata": {},
   "outputs": [
    {
     "data": {
      "text/plain": [
       "0.95077"
      ]
     },
     "execution_count": 23,
     "metadata": {},
     "output_type": "execute_result"
    }
   ],
   "source": [
    "kgs.best_params_score"
   ]
  },
  {
   "cell_type": "code",
   "execution_count": 24,
   "metadata": {},
   "outputs": [
    {
     "data": {
      "text/plain": [
       "[{'unit_1': 128,\n",
       "  'unit_2': 37,\n",
       "  'lr': 0.015329273569045341,\n",
       "  'epochs': 13,\n",
       "  'batch_size': 512,\n",
       "  'steps_per_epoch': 12},\n",
       " {'unit_1': 128,\n",
       "  'unit_2': 37,\n",
       "  'lr': 0.015329273569045341,\n",
       "  'epochs': 30,\n",
       "  'batch_size': 512,\n",
       "  'steps_per_epoch': 12},\n",
       " {'unit_1': 128,\n",
       "  'unit_2': 37,\n",
       "  'lr': 0.015329273569045341,\n",
       "  'epochs': 28,\n",
       "  'batch_size': 512,\n",
       "  'steps_per_epoch': 12}]"
      ]
     },
     "execution_count": 24,
     "metadata": {},
     "output_type": "execute_result"
    }
   ],
   "source": [
    "kgs.best_params"
   ]
  }
 ],
 "metadata": {
  "kernelspec": {
   "display_name": "Python 3",
   "language": "python",
   "name": "python3"
  },
  "language_info": {
   "codemirror_mode": {
    "name": "ipython",
    "version": 3
   },
   "file_extension": ".py",
   "mimetype": "text/x-python",
   "name": "python",
   "nbconvert_exporter": "python",
   "pygments_lexer": "ipython3",
   "version": "3.6.6"
  }
 },
 "nbformat": 4,
 "nbformat_minor": 2
}
