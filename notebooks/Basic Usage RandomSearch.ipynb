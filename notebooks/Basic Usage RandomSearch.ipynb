{
 "cells": [
  {
   "cell_type": "code",
   "execution_count": 1,
   "metadata": {},
   "outputs": [],
   "source": [
    "import os\n",
    "import random\n",
    "import numpy as np\n",
    "\n",
    "import tensorflow as tf\n",
    "from tensorflow.keras.layers import *\n",
    "from tensorflow.keras.models import *\n",
    "from tensorflow.keras.callbacks import *\n",
    "from tensorflow.keras.optimizers import Adam\n",
    "from tensorflow.keras.preprocessing.image import ImageDataGenerator\n",
    "\n",
    "from scipy import stats\n",
    "from sklearn.model_selection import KFold\n",
    "\n",
    "from kerashypetune import KerasRandomSearch, KerasRandomSearchCV"
   ]
  },
  {
   "cell_type": "code",
   "execution_count": 2,
   "metadata": {},
   "outputs": [],
   "source": [
    "def set_seed(seed):\n",
    "    \n",
    "    tf.random.set_seed(seed)\n",
    "    os.environ['PYTHONHASHSEED'] = str(seed)\n",
    "    np.random.seed(seed)\n",
    "    random.seed(seed)"
   ]
  },
  {
   "cell_type": "code",
   "execution_count": 3,
   "metadata": {},
   "outputs": [
    {
     "data": {
      "text/plain": [
       "((6036, 28, 28), (6036,), (2963, 28, 28), (2963,))"
      ]
     },
     "execution_count": 3,
     "metadata": {},
     "output_type": "execute_result"
    }
   ],
   "source": [
    "(x_train, y_train), (x_test, y_test) = tf.keras.datasets.mnist.load_data()\n",
    "\n",
    "np.random.seed(33)\n",
    "subset_train = np.random.uniform(0,1, len(y_train))\n",
    "subset_test = np.random.uniform(0,1, len(y_test))\n",
    "\n",
    "x_train = x_train[subset_train < 0.1] / 255\n",
    "y_train = y_train[subset_train < 0.1]\n",
    "\n",
    "x_test = x_test[subset_test < 0.3] / 255\n",
    "y_test = y_test[subset_test < 0.3]\n",
    "\n",
    "x_train.shape, y_train.shape, x_test.shape, y_test.shape"
   ]
  },
  {
   "cell_type": "code",
   "execution_count": 4,
   "metadata": {},
   "outputs": [],
   "source": [
    "def get_model(param):\n",
    "    \n",
    "    set_seed(33)\n",
    "        \n",
    "    model = Sequential()\n",
    "    model.add(Flatten())\n",
    "    model.add(Dense(param['unit_1'], activation='relu'))\n",
    "    model.add(Dense(param['unit_2'], activation='relu'))\n",
    "    model.add(Dense(10, activation='softmax'))\n",
    "    model.compile(optimizer=Adam(learning_rate=param['lr']), \n",
    "                  loss='sparse_categorical_crossentropy',\n",
    "                  metrics=['accuracy'])\n",
    "    \n",
    "    return model"
   ]
  },
  {
   "cell_type": "code",
   "execution_count": 5,
   "metadata": {},
   "outputs": [],
   "source": [
    "param_grid = {\n",
    "    'unit_1': [128,64], \n",
    "    'unit_2': stats.randint(32, 128),\n",
    "    'lr': stats.loguniform(1e-4, 0.1), \n",
    "    'epochs': 100, \n",
    "    'batch_size': 512\n",
    "}"
   ]
  },
  {
   "cell_type": "markdown",
   "metadata": {},
   "source": [
    "# Fixed validation search"
   ]
  },
  {
   "cell_type": "code",
   "execution_count": 6,
   "metadata": {},
   "outputs": [
    {
     "name": "stdout",
     "output_type": "stream",
     "text": [
      "\n",
      "15 trials detected for ('unit_1', 'unit_2', 'lr', 'epochs', 'batch_size')\n",
      "\n",
      "***** (1/15) *****\n",
      "Search({'unit_1': 64, 'unit_2': 61, 'lr': 0.00026941073027491154, 'epochs': 100, 'batch_size': 512})\n",
      "Restoring model weights from the end of the best epoch.\n",
      "Epoch 00067: early stopping\n",
      "SCORE: 0.93453 at epoch 62\n",
      "\n",
      "***** (2/15) *****\n",
      "Search({'unit_1': 128, 'unit_2': 105, 'lr': 0.018917299504794916, 'epochs': 100, 'batch_size': 512})\n",
      "Restoring model weights from the end of the best epoch.\n",
      "Epoch 00041: early stopping\n",
      "SCORE: 0.94836 at epoch 31\n",
      "\n",
      "***** (3/15) *****\n",
      "Search({'unit_1': 128, 'unit_2': 81, 'lr': 0.006387142993161844, 'epochs': 100, 'batch_size': 512})\n",
      "Restoring model weights from the end of the best epoch.\n",
      "Epoch 00027: early stopping\n",
      "SCORE: 0.95714 at epoch 24\n",
      "\n",
      "***** (4/15) *****\n",
      "Search({'unit_1': 64, 'unit_2': 96, 'lr': 0.00016980298333942208, 'epochs': 100, 'batch_size': 512})\n",
      "Restoring model weights from the end of the best epoch.\n",
      "Epoch 00076: early stopping\n",
      "SCORE: 0.93149 at epoch 76\n",
      "\n",
      "***** (5/15) *****\n",
      "Search({'unit_1': 128, 'unit_2': 125, 'lr': 0.00031100502312585046, 'epochs': 100, 'batch_size': 512})\n",
      "Restoring model weights from the end of the best epoch.\n",
      "Epoch 00060: early stopping\n",
      "SCORE: 0.94465 at epoch 53\n",
      "\n",
      "***** (6/15) *****\n",
      "Search({'unit_1': 128, 'unit_2': 38, 'lr': 0.008604539745472692, 'epochs': 100, 'batch_size': 512})\n",
      "Restoring model weights from the end of the best epoch.\n",
      "Epoch 00029: early stopping\n",
      "SCORE: 0.95174 at epoch 19\n",
      "\n",
      "***** (7/15) *****\n",
      "Search({'unit_1': 128, 'unit_2': 67, 'lr': 0.048643553143575324, 'epochs': 100, 'batch_size': 512})\n",
      "Restoring model weights from the end of the best epoch.\n",
      "Epoch 00024: early stopping\n",
      "SCORE: 0.92575 at epoch 14\n",
      "\n",
      "***** (8/15) *****\n",
      "Search({'unit_1': 128, 'unit_2': 72, 'lr': 0.028446264284627223, 'epochs': 100, 'batch_size': 512})\n",
      "Restoring model weights from the end of the best epoch.\n",
      "Epoch 00022: early stopping\n",
      "SCORE: 0.93453 at epoch 12\n",
      "\n",
      "***** (9/15) *****\n",
      "Search({'unit_1': 64, 'unit_2': 79, 'lr': 0.0002597559131018589, 'epochs': 100, 'batch_size': 512})\n",
      "Restoring model weights from the end of the best epoch.\n",
      "Epoch 00085: early stopping\n",
      "SCORE: 0.93284 at epoch 84\n",
      "\n",
      "***** (10/15) *****\n",
      "Search({'unit_1': 64, 'unit_2': 89, 'lr': 0.027450030060679365, 'epochs': 100, 'batch_size': 512})\n",
      "Restoring model weights from the end of the best epoch.\n",
      "Epoch 00022: early stopping\n",
      "SCORE: 0.9406 at epoch 12\n",
      "\n",
      "***** (11/15) *****\n",
      "Search({'unit_1': 64, 'unit_2': 77, 'lr': 0.011180289095021183, 'epochs': 100, 'batch_size': 512})\n",
      "Restoring model weights from the end of the best epoch.\n",
      "Epoch 00027: early stopping\n",
      "SCORE: 0.95174 at epoch 17\n",
      "\n",
      "***** (12/15) *****\n",
      "Search({'unit_1': 64, 'unit_2': 111, 'lr': 0.000289005574642862, 'epochs': 100, 'batch_size': 512})\n",
      "Restoring model weights from the end of the best epoch.\n",
      "Epoch 00077: early stopping\n",
      "SCORE: 0.93858 at epoch 67\n",
      "\n",
      "***** (13/15) *****\n",
      "Search({'unit_1': 128, 'unit_2': 89, 'lr': 0.04442377859898533, 'epochs': 100, 'batch_size': 512})\n",
      "Restoring model weights from the end of the best epoch.\n",
      "Epoch 00018: early stopping\n",
      "SCORE: 0.91731 at epoch 8\n",
      "\n",
      "***** (14/15) *****\n",
      "Search({'unit_1': 64, 'unit_2': 69, 'lr': 0.0026994807935171675, 'epochs': 100, 'batch_size': 512})\n",
      "Restoring model weights from the end of the best epoch.\n",
      "Epoch 00034: early stopping\n",
      "SCORE: 0.94296 at epoch 24\n",
      "\n",
      "***** (15/15) *****\n",
      "Search({'unit_1': 128, 'unit_2': 32, 'lr': 0.07961407194405414, 'epochs': 100, 'batch_size': 512})\n",
      "Restoring model weights from the end of the best epoch.\n",
      "Epoch 00026: early stopping\n",
      "SCORE: 0.90786 at epoch 16\n"
     ]
    },
    {
     "data": {
      "text/plain": [
       "<kerashypetune.KerasRandomSearch>"
      ]
     },
     "execution_count": 6,
     "metadata": {},
     "output_type": "execute_result"
    }
   ],
   "source": [
    "es = EarlyStopping(patience=10, verbose=1, min_delta=0.001, monitor='val_accuracy', mode='auto', restore_best_weights=True)\n",
    "\n",
    "hypermodel = get_model  \n",
    "# to pass external arguments to get_model use lambda function\n",
    "# ==> hypermodel = lambda x: get_model(param=x, ...)\n",
    "# callable(hypermodel) ==> True\n",
    "\n",
    "kgs = KerasRandomSearch(hypermodel, param_grid, n_iter=15, sampling_seed=33,\n",
    "                        monitor='val_accuracy', greater_is_better=True, tuner_verbose=1)\n",
    "kgs.search(x_train, y_train, validation_data=(x_test, y_test), callbacks=[es])"
   ]
  },
  {
   "cell_type": "code",
   "execution_count": 7,
   "metadata": {},
   "outputs": [
    {
     "data": {
      "text/plain": [
       "[0.93453,\n",
       " 0.94836,\n",
       " 0.95714,\n",
       " 0.93149,\n",
       " 0.94465,\n",
       " 0.95174,\n",
       " 0.92575,\n",
       " 0.93453,\n",
       " 0.93284,\n",
       " 0.9406,\n",
       " 0.95174,\n",
       " 0.93858,\n",
       " 0.91731,\n",
       " 0.94296,\n",
       " 0.90786]"
      ]
     },
     "execution_count": 7,
     "metadata": {},
     "output_type": "execute_result"
    }
   ],
   "source": [
    "kgs.scores"
   ]
  },
  {
   "cell_type": "code",
   "execution_count": 8,
   "metadata": {},
   "outputs": [
    {
     "data": {
      "text/plain": [
       "0.95714"
      ]
     },
     "execution_count": 8,
     "metadata": {},
     "output_type": "execute_result"
    }
   ],
   "source": [
    "kgs.best_score"
   ]
  },
  {
   "cell_type": "code",
   "execution_count": 9,
   "metadata": {},
   "outputs": [
    {
     "data": {
      "text/plain": [
       "{'unit_1': 128,\n",
       " 'unit_2': 81,\n",
       " 'lr': 0.006387142993161844,\n",
       " 'epochs': 24,\n",
       " 'batch_size': 512,\n",
       " 'steps_per_epoch': 12}"
      ]
     },
     "execution_count": 9,
     "metadata": {},
     "output_type": "execute_result"
    }
   ],
   "source": [
    "kgs.best_params"
   ]
  },
  {
   "cell_type": "code",
   "execution_count": 10,
   "metadata": {},
   "outputs": [
    {
     "data": {
      "text/plain": [
       "<tensorflow.python.keras.engine.sequential.Sequential at 0x17fc8c50160>"
      ]
     },
     "execution_count": 10,
     "metadata": {},
     "output_type": "execute_result"
    }
   ],
   "source": [
    "kgs.best_model"
   ]
  },
  {
   "cell_type": "markdown",
   "metadata": {},
   "source": [
    "# Fixed validation search Generator"
   ]
  },
  {
   "cell_type": "code",
   "execution_count": 11,
   "metadata": {},
   "outputs": [],
   "source": [
    "gen = ImageDataGenerator(\n",
    "         rotation_range=90,\n",
    "         width_shift_range=0.1,\n",
    "         height_shift_range=0.1,\n",
    "         zoom_range=0.2)"
   ]
  },
  {
   "cell_type": "code",
   "execution_count": 12,
   "metadata": {},
   "outputs": [
    {
     "name": "stdout",
     "output_type": "stream",
     "text": [
      "\n",
      "15 trials detected for ('unit_1', 'unit_2', 'lr', 'epochs', 'batch_size')\n",
      "\n",
      "***** (1/15) *****\n",
      "Search({'unit_1': 64, 'unit_2': 61, 'lr': 0.00026941073027491154, 'epochs': 100, 'batch_size': 512})\n",
      "Restoring model weights from the end of the best epoch.\n",
      "Epoch 00086: early stopping\n",
      "SCORE: 0.82551 at epoch 82\n",
      "\n",
      "***** (2/15) *****\n",
      "Search({'unit_1': 128, 'unit_2': 105, 'lr': 0.018917299504794916, 'epochs': 100, 'batch_size': 512})\n",
      "Restoring model weights from the end of the best epoch.\n",
      "Epoch 00039: early stopping\n",
      "SCORE: 0.86061 at epoch 34\n",
      "\n",
      "***** (3/15) *****\n",
      "Search({'unit_1': 128, 'unit_2': 81, 'lr': 0.006387142993161844, 'epochs': 100, 'batch_size': 512})\n",
      "Restoring model weights from the end of the best epoch.\n",
      "Epoch 00019: early stopping\n",
      "SCORE: 0.86736 at epoch 14\n",
      "\n",
      "***** (4/15) *****\n",
      "Search({'unit_1': 64, 'unit_2': 96, 'lr': 0.00016980298333942208, 'epochs': 100, 'batch_size': 512})\n",
      "Restoring model weights from the end of the best epoch.\n",
      "Epoch 00092: early stopping\n",
      "SCORE: 0.80628 at epoch 87\n",
      "\n",
      "***** (5/15) *****\n",
      "Search({'unit_1': 128, 'unit_2': 125, 'lr': 0.00031100502312585046, 'epochs': 100, 'batch_size': 512})\n",
      "Restoring model weights from the end of the best epoch.\n",
      "Epoch 00051: early stopping\n",
      "SCORE: 0.85116 at epoch 46\n",
      "\n",
      "***** (6/15) *****\n",
      "Search({'unit_1': 128, 'unit_2': 38, 'lr': 0.008604539745472692, 'epochs': 100, 'batch_size': 512})\n",
      "Restoring model weights from the end of the best epoch.\n",
      "Epoch 00014: early stopping\n",
      "SCORE: 0.83631 at epoch 9\n",
      "\n",
      "***** (7/15) *****\n",
      "Search({'unit_1': 128, 'unit_2': 67, 'lr': 0.048643553143575324, 'epochs': 100, 'batch_size': 512})\n",
      "Restoring model weights from the end of the best epoch.\n",
      "Epoch 00017: early stopping\n",
      "SCORE: 0.54877 at epoch 12\n",
      "\n",
      "***** (8/15) *****\n",
      "Search({'unit_1': 128, 'unit_2': 72, 'lr': 0.028446264284627223, 'epochs': 100, 'batch_size': 512})\n",
      "Restoring model weights from the end of the best epoch.\n",
      "Epoch 00021: early stopping\n",
      "SCORE: 0.75937 at epoch 16\n",
      "\n",
      "***** (9/15) *****\n",
      "Search({'unit_1': 64, 'unit_2': 79, 'lr': 0.0002597559131018589, 'epochs': 100, 'batch_size': 512})\n",
      "Restoring model weights from the end of the best epoch.\n",
      "Epoch 00065: early stopping\n",
      "SCORE: 0.79447 at epoch 63\n",
      "\n",
      "***** (10/15) *****\n",
      "Search({'unit_1': 64, 'unit_2': 89, 'lr': 0.027450030060679365, 'epochs': 100, 'batch_size': 512})\n",
      "Restoring model weights from the end of the best epoch.\n",
      "Epoch 00021: early stopping\n",
      "SCORE: 0.77827 at epoch 16\n",
      "\n",
      "***** (11/15) *****\n",
      "Search({'unit_1': 64, 'unit_2': 77, 'lr': 0.011180289095021183, 'epochs': 100, 'batch_size': 512})\n",
      "Restoring model weights from the end of the best epoch.\n",
      "Epoch 00032: early stopping\n",
      "SCORE: 0.85218 at epoch 27\n",
      "\n",
      "***** (12/15) *****\n",
      "Search({'unit_1': 64, 'unit_2': 111, 'lr': 0.000289005574642862, 'epochs': 100, 'batch_size': 512})\n",
      "Restoring model weights from the end of the best epoch.\n",
      "Epoch 00092: early stopping\n",
      "SCORE: 0.84846 at epoch 87\n",
      "\n",
      "***** (13/15) *****\n",
      "Search({'unit_1': 128, 'unit_2': 89, 'lr': 0.04442377859898533, 'epochs': 100, 'batch_size': 512})\n",
      "Restoring model weights from the end of the best epoch.\n",
      "Epoch 00017: early stopping\n",
      "SCORE: 0.61323 at epoch 12\n",
      "\n",
      "***** (14/15) *****\n",
      "Search({'unit_1': 64, 'unit_2': 69, 'lr': 0.0026994807935171675, 'epochs': 100, 'batch_size': 512})\n",
      "Restoring model weights from the end of the best epoch.\n",
      "Epoch 00019: early stopping\n",
      "SCORE: 0.8245 at epoch 14\n",
      "\n",
      "***** (15/15) *****\n",
      "Search({'unit_1': 128, 'unit_2': 32, 'lr': 0.07961407194405414, 'epochs': 100, 'batch_size': 512})\n",
      "Restoring model weights from the end of the best epoch.\n",
      "Epoch 00016: early stopping\n",
      "SCORE: 0.31792 at epoch 11\n"
     ]
    },
    {
     "data": {
      "text/plain": [
       "<kerashypetune.KerasRandomSearch>"
      ]
     },
     "execution_count": 12,
     "metadata": {},
     "output_type": "execute_result"
    }
   ],
   "source": [
    "es = EarlyStopping(patience=5, verbose=1, min_delta=0.001, monitor='val_accuracy', mode='auto', restore_best_weights=True)\n",
    "\n",
    "hypermodel = get_model\n",
    "# to pass external arguments to get_model use lambda function\n",
    "# ==> hypermodel = lambda x: get_model(param=x, ...)\n",
    "# callable(hypermodel) ==> True\n",
    "\n",
    "kgs = KerasRandomSearch(hypermodel, param_grid, n_iter=15, sampling_seed=33,\n",
    "                        monitor='val_accuracy', greater_is_better=True, tuner_verbose=1)\n",
    "kgs.search(gen.flow(np.expand_dims(x_train,-1), y_train, batch_size=param_grid['batch_size'], seed=33), \n",
    "           validation_data=(np.expand_dims(x_test,-1), y_test), \n",
    "           callbacks=[es], steps_per_epoch=len(x_train)//param_grid['batch_size'])"
   ]
  },
  {
   "cell_type": "code",
   "execution_count": 13,
   "metadata": {},
   "outputs": [
    {
     "data": {
      "text/plain": [
       "[0.82551,\n",
       " 0.86061,\n",
       " 0.86736,\n",
       " 0.80628,\n",
       " 0.85116,\n",
       " 0.83631,\n",
       " 0.54877,\n",
       " 0.75937,\n",
       " 0.79447,\n",
       " 0.77827,\n",
       " 0.85218,\n",
       " 0.84846,\n",
       " 0.61323,\n",
       " 0.8245,\n",
       " 0.31792]"
      ]
     },
     "execution_count": 13,
     "metadata": {},
     "output_type": "execute_result"
    }
   ],
   "source": [
    "kgs.scores"
   ]
  },
  {
   "cell_type": "code",
   "execution_count": 14,
   "metadata": {},
   "outputs": [
    {
     "data": {
      "text/plain": [
       "0.86736"
      ]
     },
     "execution_count": 14,
     "metadata": {},
     "output_type": "execute_result"
    }
   ],
   "source": [
    "kgs.best_score"
   ]
  },
  {
   "cell_type": "code",
   "execution_count": 15,
   "metadata": {},
   "outputs": [
    {
     "data": {
      "text/plain": [
       "{'unit_1': 128,\n",
       " 'unit_2': 81,\n",
       " 'lr': 0.006387142993161844,\n",
       " 'epochs': 14,\n",
       " 'batch_size': 512,\n",
       " 'steps_per_epoch': 11}"
      ]
     },
     "execution_count": 15,
     "metadata": {},
     "output_type": "execute_result"
    }
   ],
   "source": [
    "kgs.best_params"
   ]
  },
  {
   "cell_type": "code",
   "execution_count": 16,
   "metadata": {},
   "outputs": [
    {
     "data": {
      "text/plain": [
       "<tensorflow.python.keras.engine.sequential.Sequential at 0x17fc9b65ac8>"
      ]
     },
     "execution_count": 16,
     "metadata": {},
     "output_type": "execute_result"
    }
   ],
   "source": [
    "kgs.best_model"
   ]
  },
  {
   "cell_type": "markdown",
   "metadata": {},
   "source": [
    "# Cross validation search"
   ]
  },
  {
   "cell_type": "code",
   "execution_count": 17,
   "metadata": {},
   "outputs": [
    {
     "data": {
      "text/plain": [
       "((8999, 28, 28), (8999,))"
      ]
     },
     "execution_count": 17,
     "metadata": {},
     "output_type": "execute_result"
    }
   ],
   "source": [
    "X = np.concatenate([x_train, x_test])\n",
    "y = np.concatenate([y_train, y_test])\n",
    "\n",
    "X.shape, y.shape"
   ]
  },
  {
   "cell_type": "code",
   "execution_count": 18,
   "metadata": {},
   "outputs": [
    {
     "name": "stdout",
     "output_type": "stream",
     "text": [
      "\n",
      "##################\n",
      "###  Fold 001  ###\n",
      "##################\n",
      "\n",
      "5 trials detected for ('unit_1', 'unit_2', 'lr', 'epochs', 'batch_size')\n",
      "\n",
      "***** (1/5) *****\n",
      "Search({'unit_1': 64, 'unit_2': 97, 'lr': 0.0005535560552210636, 'epochs': 100, 'batch_size': 512})\n",
      "Restoring model weights from the end of the best epoch.\n",
      "Epoch 00042: early stopping\n",
      "SCORE: 0.92667 at epoch 36\n",
      "\n",
      "***** (2/5) *****\n",
      "Search({'unit_1': 128, 'unit_2': 77, 'lr': 0.0025150330161023593, 'epochs': 100, 'batch_size': 512})\n",
      "Restoring model weights from the end of the best epoch.\n",
      "Epoch 00035: early stopping\n",
      "SCORE: 0.942 at epoch 25\n",
      "\n",
      "***** (3/5) *****\n",
      "Search({'unit_1': 128, 'unit_2': 37, 'lr': 0.0005324197618194066, 'epochs': 100, 'batch_size': 512})\n",
      "Restoring model weights from the end of the best epoch.\n",
      "Epoch 00037: early stopping\n",
      "SCORE: 0.93733 at epoch 27\n",
      "\n",
      "***** (4/5) *****\n",
      "Search({'unit_1': 64, 'unit_2': 114, 'lr': 0.0005304760422961851, 'epochs': 100, 'batch_size': 512})\n",
      "Restoring model weights from the end of the best epoch.\n",
      "Epoch 00042: early stopping\n",
      "SCORE: 0.93533 at epoch 40\n",
      "\n",
      "***** (5/5) *****\n",
      "Search({'unit_1': 128, 'unit_2': 125, 'lr': 0.010310596407937588, 'epochs': 100, 'batch_size': 512})\n",
      "Restoring model weights from the end of the best epoch.\n",
      "Epoch 00022: early stopping\n",
      "SCORE: 0.951 at epoch 18\n",
      "\n",
      "##################\n",
      "###  Fold 002  ###\n",
      "##################\n",
      "\n",
      "5 trials detected for ('unit_1', 'unit_2', 'lr', 'epochs', 'batch_size')\n",
      "\n",
      "***** (1/5) *****\n",
      "Search({'unit_1': 64, 'unit_2': 97, 'lr': 0.0005535560552210636, 'epochs': 100, 'batch_size': 512})\n",
      "Restoring model weights from the end of the best epoch.\n",
      "Epoch 00065: early stopping\n",
      "SCORE: 0.93767 at epoch 64\n",
      "\n",
      "***** (2/5) *****\n",
      "Search({'unit_1': 128, 'unit_2': 77, 'lr': 0.0025150330161023593, 'epochs': 100, 'batch_size': 512})\n",
      "Restoring model weights from the end of the best epoch.\n",
      "Epoch 00040: early stopping\n",
      "SCORE: 0.95367 at epoch 30\n",
      "\n",
      "***** (3/5) *****\n",
      "Search({'unit_1': 128, 'unit_2': 37, 'lr': 0.0005324197618194066, 'epochs': 100, 'batch_size': 512})\n",
      "Restoring model weights from the end of the best epoch.\n",
      "Epoch 00052: early stopping\n",
      "SCORE: 0.94333 at epoch 42\n",
      "\n",
      "***** (4/5) *****\n",
      "Search({'unit_1': 64, 'unit_2': 114, 'lr': 0.0005304760422961851, 'epochs': 100, 'batch_size': 512})\n",
      "Restoring model weights from the end of the best epoch.\n",
      "Epoch 00058: early stopping\n",
      "SCORE: 0.93867 at epoch 57\n",
      "\n",
      "***** (5/5) *****\n",
      "Search({'unit_1': 128, 'unit_2': 125, 'lr': 0.010310596407937588, 'epochs': 100, 'batch_size': 512})\n",
      "Restoring model weights from the end of the best epoch.\n",
      "Epoch 00022: early stopping\n",
      "SCORE: 0.95533 at epoch 12\n",
      "\n",
      "##################\n",
      "###  Fold 003  ###\n",
      "##################\n",
      "\n",
      "5 trials detected for ('unit_1', 'unit_2', 'lr', 'epochs', 'batch_size')\n",
      "\n",
      "***** (1/5) *****\n",
      "Search({'unit_1': 64, 'unit_2': 97, 'lr': 0.0005535560552210636, 'epochs': 100, 'batch_size': 512})\n",
      "Restoring model weights from the end of the best epoch.\n",
      "Epoch 00059: early stopping\n",
      "SCORE: 0.93765 at epoch 59\n",
      "\n",
      "***** (2/5) *****\n",
      "Search({'unit_1': 128, 'unit_2': 77, 'lr': 0.0025150330161023593, 'epochs': 100, 'batch_size': 512})\n",
      "Restoring model weights from the end of the best epoch.\n",
      "Epoch 00038: early stopping\n",
      "SCORE: 0.95365 at epoch 28\n",
      "\n",
      "***** (3/5) *****\n",
      "Search({'unit_1': 128, 'unit_2': 37, 'lr': 0.0005324197618194066, 'epochs': 100, 'batch_size': 512})\n",
      "Restoring model weights from the end of the best epoch.\n",
      "Epoch 00049: early stopping\n",
      "SCORE: 0.94165 at epoch 46\n",
      "\n",
      "***** (4/5) *****\n",
      "Search({'unit_1': 64, 'unit_2': 114, 'lr': 0.0005304760422961851, 'epochs': 100, 'batch_size': 512})\n",
      "Restoring model weights from the end of the best epoch.\n",
      "Epoch 00063: early stopping\n",
      "SCORE: 0.94532 at epoch 53\n",
      "\n",
      "***** (5/5) *****\n",
      "Search({'unit_1': 128, 'unit_2': 125, 'lr': 0.010310596407937588, 'epochs': 100, 'batch_size': 512})\n",
      "Restoring model weights from the end of the best epoch.\n",
      "Epoch 00028: early stopping\n",
      "SCORE: 0.95499 at epoch 24\n"
     ]
    },
    {
     "data": {
      "text/plain": [
       "<kerashypetune.KerasRandomSearchCV>"
      ]
     },
     "execution_count": 18,
     "metadata": {},
     "output_type": "execute_result"
    }
   ],
   "source": [
    "cv = KFold(n_splits=3, random_state=33, shuffle=True)\n",
    "\n",
    "es = EarlyStopping(patience=10, verbose=1, min_delta=0.001, monitor='val_accuracy', mode='auto', restore_best_weights=True)\n",
    "\n",
    "hypermodel = get_model\n",
    "# to pass external arguments to get_model use lambda function\n",
    "# ==> hypermodel = lambda x: get_model(param=x, ...)\n",
    "\n",
    "kgs = KerasRandomSearchCV(hypermodel, param_grid, cv=cv, n_iter=5, sampling_seed=33,\n",
    "                          monitor='val_accuracy', greater_is_better=True, tuner_verbose=1)\n",
    "kgs.search(X, y, callbacks=[es])"
   ]
  },
  {
   "cell_type": "code",
   "execution_count": 19,
   "metadata": {
    "scrolled": true
   },
   "outputs": [
    {
     "data": {
      "text/plain": [
       "{'fold 1': [0.92667, 0.942, 0.93733, 0.93533, 0.951],\n",
       " 'fold 2': [0.93767, 0.95367, 0.94333, 0.93867, 0.95533],\n",
       " 'fold 3': [0.93765, 0.95365, 0.94165, 0.94532, 0.95499]}"
      ]
     },
     "execution_count": 19,
     "metadata": {},
     "output_type": "execute_result"
    }
   ],
   "source": [
    "kgs.folds_scores"
   ]
  },
  {
   "cell_type": "code",
   "execution_count": 20,
   "metadata": {},
   "outputs": [
    {
     "data": {
      "text/plain": [
       "{'fold 1': 0.951, 'fold 2': 0.95533, 'fold 3': 0.95499}"
      ]
     },
     "execution_count": 20,
     "metadata": {},
     "output_type": "execute_result"
    }
   ],
   "source": [
    "kgs.folds_best_score"
   ]
  },
  {
   "cell_type": "code",
   "execution_count": 21,
   "metadata": {},
   "outputs": [
    {
     "data": {
      "text/plain": [
       "{'fold 1': {'unit_1': 128,\n",
       "  'unit_2': 125,\n",
       "  'lr': 0.010310596407937588,\n",
       "  'epochs': 18,\n",
       "  'batch_size': 512,\n",
       "  'steps_per_epoch': 12},\n",
       " 'fold 2': {'unit_1': 128,\n",
       "  'unit_2': 125,\n",
       "  'lr': 0.010310596407937588,\n",
       "  'epochs': 12,\n",
       "  'batch_size': 512,\n",
       "  'steps_per_epoch': 12},\n",
       " 'fold 3': {'unit_1': 128,\n",
       "  'unit_2': 125,\n",
       "  'lr': 0.010310596407937588,\n",
       "  'epochs': 24,\n",
       "  'batch_size': 512,\n",
       "  'steps_per_epoch': 12}}"
      ]
     },
     "execution_count": 21,
     "metadata": {},
     "output_type": "execute_result"
    }
   ],
   "source": [
    "kgs.folds_best_params"
   ]
  },
  {
   "cell_type": "code",
   "execution_count": 22,
   "metadata": {},
   "outputs": [
    {
     "data": {
      "text/plain": [
       "{'fold 1': <tensorflow.python.keras.engine.sequential.Sequential at 0x17fc7b1d0f0>,\n",
       " 'fold 2': <tensorflow.python.keras.engine.sequential.Sequential at 0x17fc92cca20>,\n",
       " 'fold 3': <tensorflow.python.keras.engine.sequential.Sequential at 0x17fc93285f8>}"
      ]
     },
     "execution_count": 22,
     "metadata": {},
     "output_type": "execute_result"
    }
   ],
   "source": [
    "kgs.folds_best_models"
   ]
  },
  {
   "cell_type": "code",
   "execution_count": 23,
   "metadata": {},
   "outputs": [
    {
     "data": {
      "text/plain": [
       "0.95377"
      ]
     },
     "execution_count": 23,
     "metadata": {},
     "output_type": "execute_result"
    }
   ],
   "source": [
    "kgs.best_params_score"
   ]
  },
  {
   "cell_type": "code",
   "execution_count": 24,
   "metadata": {},
   "outputs": [
    {
     "data": {
      "text/plain": [
       "[{'unit_1': 128,\n",
       "  'unit_2': 125,\n",
       "  'lr': 0.010310596407937588,\n",
       "  'epochs': 18,\n",
       "  'batch_size': 512,\n",
       "  'steps_per_epoch': 12},\n",
       " {'unit_1': 128,\n",
       "  'unit_2': 125,\n",
       "  'lr': 0.010310596407937588,\n",
       "  'epochs': 12,\n",
       "  'batch_size': 512,\n",
       "  'steps_per_epoch': 12},\n",
       " {'unit_1': 128,\n",
       "  'unit_2': 125,\n",
       "  'lr': 0.010310596407937588,\n",
       "  'epochs': 24,\n",
       "  'batch_size': 512,\n",
       "  'steps_per_epoch': 12}]"
      ]
     },
     "execution_count": 24,
     "metadata": {},
     "output_type": "execute_result"
    }
   ],
   "source": [
    "kgs.best_params"
   ]
  }
 ],
 "metadata": {
  "kernelspec": {
   "display_name": "Python 3",
   "language": "python",
   "name": "python3"
  },
  "language_info": {
   "codemirror_mode": {
    "name": "ipython",
    "version": 3
   },
   "file_extension": ".py",
   "mimetype": "text/x-python",
   "name": "python",
   "nbconvert_exporter": "python",
   "pygments_lexer": "ipython3",
   "version": "3.7.4"
  }
 },
 "nbformat": 4,
 "nbformat_minor": 2
}
