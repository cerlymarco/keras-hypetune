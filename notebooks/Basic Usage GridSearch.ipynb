{
 "cells": [
  {
   "cell_type": "code",
   "execution_count": 1,
   "metadata": {},
   "outputs": [],
   "source": [
    "import os\n",
    "import random\n",
    "import numpy as np\n",
    "\n",
    "import tensorflow as tf\n",
    "from tensorflow.keras.layers import *\n",
    "from tensorflow.keras.models import *\n",
    "from tensorflow.keras.callbacks import *\n",
    "from tensorflow.keras.optimizers import Adam\n",
    "from tensorflow.keras.preprocessing.image import ImageDataGenerator\n",
    "\n",
    "from sklearn.model_selection import KFold\n",
    "\n",
    "from kerashypetune import KerasGridSearch, KerasGridSearchCV"
   ]
  },
  {
   "cell_type": "code",
   "execution_count": 2,
   "metadata": {},
   "outputs": [],
   "source": [
    "def set_seed(seed):\n",
    "    \n",
    "    tf.random.set_seed(seed)\n",
    "    os.environ['PYTHONHASHSEED'] = str(seed)\n",
    "    np.random.seed(seed)\n",
    "    random.seed(seed)"
   ]
  },
  {
   "cell_type": "code",
   "execution_count": 3,
   "metadata": {},
   "outputs": [
    {
     "data": {
      "text/plain": [
       "((6036, 28, 28), (6036,), (2963, 28, 28), (2963,))"
      ]
     },
     "execution_count": 3,
     "metadata": {},
     "output_type": "execute_result"
    }
   ],
   "source": [
    "(x_train, y_train), (x_test, y_test) = tf.keras.datasets.mnist.load_data()\n",
    "\n",
    "np.random.seed(33)\n",
    "subset_train = np.random.uniform(0,1, len(y_train))\n",
    "subset_test = np.random.uniform(0,1, len(y_test))\n",
    "\n",
    "x_train = x_train[subset_train < 0.1] / 255\n",
    "y_train = y_train[subset_train < 0.1]\n",
    "\n",
    "x_test = x_test[subset_test < 0.3] / 255\n",
    "y_test = y_test[subset_test < 0.3]\n",
    "\n",
    "x_train.shape, y_train.shape, x_test.shape, y_test.shape"
   ]
  },
  {
   "cell_type": "code",
   "execution_count": 4,
   "metadata": {},
   "outputs": [],
   "source": [
    "def get_model(param):\n",
    "    \n",
    "    set_seed(33)\n",
    "            \n",
    "    model = Sequential()\n",
    "    model.add(Flatten())\n",
    "    model.add(Dense(param['unit_1'], activation='relu'))\n",
    "    model.add(Dense(param['unit_2'], activation='relu'))\n",
    "    model.add(Dense(10, activation='softmax'))\n",
    "    model.compile(optimizer=Adam(learning_rate=param['lr']), \n",
    "                  loss='sparse_categorical_crossentropy',\n",
    "                  metrics=['accuracy'])\n",
    "    \n",
    "    return model"
   ]
  },
  {
   "cell_type": "code",
   "execution_count": 5,
   "metadata": {},
   "outputs": [],
   "source": [
    "param_grid = {\n",
    "    'unit_1': [128,64], \n",
    "    'unit_2': [64,32],\n",
    "    'lr': [1e-2,1e-3], \n",
    "    'epochs': 100, \n",
    "    'batch_size': 512\n",
    "}"
   ]
  },
  {
   "cell_type": "markdown",
   "metadata": {},
   "source": [
    "# Fixed validation search"
   ]
  },
  {
   "cell_type": "code",
   "execution_count": 6,
   "metadata": {},
   "outputs": [
    {
     "name": "stdout",
     "output_type": "stream",
     "text": [
      "\n",
      "8 trials detected for ('unit_1', 'unit_2', 'lr', 'epochs', 'batch_size')\n",
      "\n",
      "***** (1/8) *****\n",
      "Search({'unit_1': 128, 'unit_2': 64, 'lr': 0.01, 'epochs': 100, 'batch_size': 512})\n",
      "Restoring model weights from the end of the best epoch.\n",
      "Epoch 00021: early stopping\n",
      "SCORE: 0.95208 at epoch 17\n",
      "\n",
      "***** (2/8) *****\n",
      "Search({'unit_1': 128, 'unit_2': 64, 'lr': 0.001, 'epochs': 100, 'batch_size': 512})\n",
      "Restoring model weights from the end of the best epoch.\n",
      "Epoch 00038: early stopping\n",
      "SCORE: 0.95005 at epoch 28\n",
      "\n",
      "***** (3/8) *****\n",
      "Search({'unit_1': 128, 'unit_2': 32, 'lr': 0.01, 'epochs': 100, 'batch_size': 512})\n",
      "Restoring model weights from the end of the best epoch.\n",
      "Epoch 00024: early stopping\n",
      "SCORE: 0.9514 at epoch 14\n",
      "\n",
      "***** (4/8) *****\n",
      "Search({'unit_1': 128, 'unit_2': 32, 'lr': 0.001, 'epochs': 100, 'batch_size': 512})\n",
      "Restoring model weights from the end of the best epoch.\n",
      "Epoch 00053: early stopping\n",
      "SCORE: 0.95039 at epoch 47\n",
      "\n",
      "***** (5/8) *****\n",
      "Search({'unit_1': 64, 'unit_2': 64, 'lr': 0.01, 'epochs': 100, 'batch_size': 512})\n",
      "Restoring model weights from the end of the best epoch.\n",
      "Epoch 00041: early stopping\n",
      "SCORE: 0.95343 at epoch 41\n",
      "\n",
      "***** (6/8) *****\n",
      "Search({'unit_1': 64, 'unit_2': 64, 'lr': 0.001, 'epochs': 100, 'batch_size': 512})\n",
      "Restoring model weights from the end of the best epoch.\n",
      "Epoch 00057: early stopping\n",
      "SCORE: 0.94398 at epoch 47\n",
      "\n",
      "***** (7/8) *****\n",
      "Search({'unit_1': 64, 'unit_2': 32, 'lr': 0.01, 'epochs': 100, 'batch_size': 512})\n",
      "Restoring model weights from the end of the best epoch.\n",
      "Epoch 00028: early stopping\n",
      "SCORE: 0.9487 at epoch 18\n",
      "\n",
      "***** (8/8) *****\n",
      "Search({'unit_1': 64, 'unit_2': 32, 'lr': 0.001, 'epochs': 100, 'batch_size': 512})\n",
      "Restoring model weights from the end of the best epoch.\n",
      "Epoch 00047: early stopping\n",
      "SCORE: 0.93993 at epoch 46\n"
     ]
    },
    {
     "data": {
      "text/plain": [
       "<kerashypetune.kerashypetune.KerasGridSearch at 0x1507eeda5c8>"
      ]
     },
     "execution_count": 6,
     "metadata": {},
     "output_type": "execute_result"
    }
   ],
   "source": [
    "es = EarlyStopping(patience=10, verbose=1, min_delta=0.001, monitor='val_accuracy', mode='auto', restore_best_weights=True)\n",
    "\n",
    "hypermodel = get_model\n",
    "# to pass external arguments to get_model use lambda function\n",
    "# ==> hypermodel = lambda x: get_model(param=x, ...)\n",
    "# callable(hypermodel) ==> True\n",
    "\n",
    "kgs = KerasGridSearch(hypermodel, param_grid, monitor='val_accuracy', greater_is_better=True, tuner_verbose=1)\n",
    "kgs.search(x_train, y_train, validation_data=(x_test, y_test), callbacks=[es])"
   ]
  },
  {
   "cell_type": "code",
   "execution_count": 7,
   "metadata": {},
   "outputs": [
    {
     "data": {
      "text/plain": [
       "[0.95208, 0.95005, 0.9514, 0.95039, 0.95343, 0.94398, 0.9487, 0.93993]"
      ]
     },
     "execution_count": 7,
     "metadata": {},
     "output_type": "execute_result"
    }
   ],
   "source": [
    "kgs.scores"
   ]
  },
  {
   "cell_type": "code",
   "execution_count": 8,
   "metadata": {},
   "outputs": [
    {
     "data": {
      "text/plain": [
       "0.95343"
      ]
     },
     "execution_count": 8,
     "metadata": {},
     "output_type": "execute_result"
    }
   ],
   "source": [
    "kgs.best_score"
   ]
  },
  {
   "cell_type": "code",
   "execution_count": 9,
   "metadata": {},
   "outputs": [
    {
     "data": {
      "text/plain": [
       "{'unit_1': 64,\n",
       " 'unit_2': 64,\n",
       " 'lr': 0.01,\n",
       " 'epochs': 41,\n",
       " 'batch_size': 512,\n",
       " 'steps_per_epoch': 12}"
      ]
     },
     "execution_count": 9,
     "metadata": {},
     "output_type": "execute_result"
    }
   ],
   "source": [
    "kgs.best_params"
   ]
  },
  {
   "cell_type": "code",
   "execution_count": 10,
   "metadata": {},
   "outputs": [
    {
     "data": {
      "text/plain": [
       "<tensorflow.python.keras.engine.sequential.Sequential at 0x150074858c8>"
      ]
     },
     "execution_count": 10,
     "metadata": {},
     "output_type": "execute_result"
    }
   ],
   "source": [
    "kgs.best_model"
   ]
  },
  {
   "cell_type": "markdown",
   "metadata": {},
   "source": [
    "# Fixed validation search Generator"
   ]
  },
  {
   "cell_type": "code",
   "execution_count": 11,
   "metadata": {},
   "outputs": [],
   "source": [
    "gen = ImageDataGenerator(\n",
    "         rotation_range=90,\n",
    "         width_shift_range=0.1,\n",
    "         height_shift_range=0.1,\n",
    "         zoom_range=0.2)"
   ]
  },
  {
   "cell_type": "code",
   "execution_count": 12,
   "metadata": {},
   "outputs": [
    {
     "name": "stdout",
     "output_type": "stream",
     "text": [
      "\n",
      "8 trials detected for ('unit_1', 'unit_2', 'lr', 'epochs', 'batch_size')\n",
      "\n",
      "***** (1/8) *****\n",
      "Search({'unit_1': 128, 'unit_2': 64, 'lr': 0.01, 'epochs': 100, 'batch_size': 512})\n",
      "Restoring model weights from the end of the best epoch.\n",
      "Epoch 00020: early stopping\n",
      "SCORE: 0.85353 at epoch 15\n",
      "\n",
      "***** (2/8) *****\n",
      "Search({'unit_1': 128, 'unit_2': 64, 'lr': 0.001, 'epochs': 100, 'batch_size': 512})\n",
      "Restoring model weights from the end of the best epoch.\n",
      "Epoch 00031: early stopping\n",
      "SCORE: 0.86905 at epoch 26\n",
      "\n",
      "***** (3/8) *****\n",
      "Search({'unit_1': 128, 'unit_2': 32, 'lr': 0.01, 'epochs': 100, 'batch_size': 512})\n",
      "Restoring model weights from the end of the best epoch.\n",
      "Epoch 00049: early stopping\n",
      "SCORE: 0.90348 at epoch 44\n",
      "\n",
      "***** (4/8) *****\n",
      "Search({'unit_1': 128, 'unit_2': 32, 'lr': 0.001, 'epochs': 100, 'batch_size': 512})\n",
      "Restoring model weights from the end of the best epoch.\n",
      "Epoch 00035: early stopping\n",
      "SCORE: 0.86365 at epoch 34\n",
      "\n",
      "***** (5/8) *****\n",
      "Search({'unit_1': 64, 'unit_2': 64, 'lr': 0.01, 'epochs': 100, 'batch_size': 512})\n",
      "Restoring model weights from the end of the best epoch.\n",
      "Epoch 00035: early stopping\n",
      "SCORE: 0.86466 at epoch 30\n",
      "\n",
      "***** (6/8) *****\n",
      "Search({'unit_1': 64, 'unit_2': 64, 'lr': 0.001, 'epochs': 100, 'batch_size': 512})\n",
      "Restoring model weights from the end of the best epoch.\n",
      "Epoch 00037: early stopping\n",
      "SCORE: 0.82889 at epoch 32\n",
      "\n",
      "***** (7/8) *****\n",
      "Search({'unit_1': 64, 'unit_2': 32, 'lr': 0.01, 'epochs': 100, 'batch_size': 512})\n",
      "Restoring model weights from the end of the best epoch.\n",
      "Epoch 00028: early stopping\n",
      "SCORE: 0.83733 at epoch 28\n",
      "\n",
      "***** (8/8) *****\n",
      "Search({'unit_1': 64, 'unit_2': 32, 'lr': 0.001, 'epochs': 100, 'batch_size': 512})\n",
      "Restoring model weights from the end of the best epoch.\n",
      "Epoch 00050: early stopping\n",
      "SCORE: 0.8353 at epoch 45\n"
     ]
    },
    {
     "data": {
      "text/plain": [
       "<kerashypetune.kerashypetune.KerasGridSearch at 0x1507eeda8c8>"
      ]
     },
     "execution_count": 12,
     "metadata": {},
     "output_type": "execute_result"
    }
   ],
   "source": [
    "es = EarlyStopping(patience=5, verbose=1, min_delta=0.001, monitor='val_accuracy', mode='auto', restore_best_weights=True)\n",
    "\n",
    "hypermodel = get_model\n",
    "# to pass external arguments to get_model use lambda function\n",
    "# ==> hypermodel = lambda x: get_model(param=x, ...)\n",
    "# callable(hypermodel) ==> True\n",
    "\n",
    "kgs = KerasGridSearch(hypermodel, param_grid, monitor='val_accuracy', greater_is_better=True, tuner_verbose=1)\n",
    "kgs.search(gen.flow(np.expand_dims(x_train,-1), y_train, batch_size=param_grid['batch_size'], seed=33), \n",
    "           validation_data=(np.expand_dims(x_test,-1), y_test), \n",
    "           callbacks=[es], steps_per_epoch=len(x_train)//param_grid['batch_size'])"
   ]
  },
  {
   "cell_type": "code",
   "execution_count": 13,
   "metadata": {},
   "outputs": [
    {
     "data": {
      "text/plain": [
       "[0.85353, 0.86905, 0.90348, 0.86365, 0.86466, 0.82889, 0.83733, 0.8353]"
      ]
     },
     "execution_count": 13,
     "metadata": {},
     "output_type": "execute_result"
    }
   ],
   "source": [
    "kgs.scores"
   ]
  },
  {
   "cell_type": "code",
   "execution_count": 14,
   "metadata": {},
   "outputs": [
    {
     "data": {
      "text/plain": [
       "0.90348"
      ]
     },
     "execution_count": 14,
     "metadata": {},
     "output_type": "execute_result"
    }
   ],
   "source": [
    "kgs.best_score"
   ]
  },
  {
   "cell_type": "code",
   "execution_count": 15,
   "metadata": {},
   "outputs": [
    {
     "data": {
      "text/plain": [
       "{'unit_1': 128,\n",
       " 'unit_2': 32,\n",
       " 'lr': 0.01,\n",
       " 'epochs': 44,\n",
       " 'batch_size': 512,\n",
       " 'steps_per_epoch': 11}"
      ]
     },
     "execution_count": 15,
     "metadata": {},
     "output_type": "execute_result"
    }
   ],
   "source": [
    "kgs.best_params"
   ]
  },
  {
   "cell_type": "code",
   "execution_count": 16,
   "metadata": {},
   "outputs": [
    {
     "data": {
      "text/plain": [
       "<tensorflow.python.keras.engine.sequential.Sequential at 0x15008f8f088>"
      ]
     },
     "execution_count": 16,
     "metadata": {},
     "output_type": "execute_result"
    }
   ],
   "source": [
    "kgs.best_model"
   ]
  },
  {
   "cell_type": "markdown",
   "metadata": {},
   "source": [
    "# Cross validation search"
   ]
  },
  {
   "cell_type": "code",
   "execution_count": 17,
   "metadata": {},
   "outputs": [
    {
     "data": {
      "text/plain": [
       "((8999, 28, 28), (8999,))"
      ]
     },
     "execution_count": 17,
     "metadata": {},
     "output_type": "execute_result"
    }
   ],
   "source": [
    "X = np.concatenate([x_train, x_test])\n",
    "y = np.concatenate([y_train, y_test])\n",
    "\n",
    "X.shape, y.shape"
   ]
  },
  {
   "cell_type": "code",
   "execution_count": 18,
   "metadata": {},
   "outputs": [
    {
     "name": "stdout",
     "output_type": "stream",
     "text": [
      "\n",
      "##################\n",
      "###  Fold 001  ###\n",
      "##################\n",
      "\n",
      "8 trials detected for ('unit_1', 'unit_2', 'lr', 'epochs', 'batch_size')\n",
      "\n",
      "***** (1/8) *****\n",
      "Search({'unit_1': 128, 'unit_2': 64, 'lr': 0.01, 'epochs': 100, 'batch_size': 512})\n",
      "Restoring model weights from the end of the best epoch.\n",
      "Epoch 00025: early stopping\n",
      "SCORE: 0.94767 at epoch 22\n",
      "\n",
      "***** (2/8) *****\n",
      "Search({'unit_1': 128, 'unit_2': 64, 'lr': 0.001, 'epochs': 100, 'batch_size': 512})\n",
      "Restoring model weights from the end of the best epoch.\n",
      "Epoch 00056: early stopping\n",
      "SCORE: 0.944 at epoch 56\n",
      "\n",
      "***** (3/8) *****\n",
      "Search({'unit_1': 128, 'unit_2': 32, 'lr': 0.01, 'epochs': 100, 'batch_size': 512})\n",
      "Restoring model weights from the end of the best epoch.\n",
      "Epoch 00026: early stopping\n",
      "SCORE: 0.94567 at epoch 23\n",
      "\n",
      "***** (4/8) *****\n",
      "Search({'unit_1': 128, 'unit_2': 32, 'lr': 0.001, 'epochs': 100, 'batch_size': 512})\n",
      "Restoring model weights from the end of the best epoch.\n",
      "Epoch 00025: early stopping\n",
      "SCORE: 0.935 at epoch 19\n",
      "\n",
      "***** (5/8) *****\n",
      "Search({'unit_1': 64, 'unit_2': 64, 'lr': 0.01, 'epochs': 100, 'batch_size': 512})\n",
      "Restoring model weights from the end of the best epoch.\n",
      "Epoch 00027: early stopping\n",
      "SCORE: 0.94667 at epoch 19\n",
      "\n",
      "***** (6/8) *****\n",
      "Search({'unit_1': 64, 'unit_2': 64, 'lr': 0.001, 'epochs': 100, 'batch_size': 512})\n",
      "Restoring model weights from the end of the best epoch.\n",
      "Epoch 00042: early stopping\n",
      "SCORE: 0.93433 at epoch 32\n",
      "\n",
      "***** (7/8) *****\n",
      "Search({'unit_1': 64, 'unit_2': 32, 'lr': 0.01, 'epochs': 100, 'batch_size': 512})\n",
      "Restoring model weights from the end of the best epoch.\n",
      "Epoch 00022: early stopping\n",
      "SCORE: 0.944 at epoch 18\n",
      "\n",
      "***** (8/8) *****\n",
      "Search({'unit_1': 64, 'unit_2': 32, 'lr': 0.001, 'epochs': 100, 'batch_size': 512})\n",
      "Restoring model weights from the end of the best epoch.\n",
      "Epoch 00040: early stopping\n",
      "SCORE: 0.93467 at epoch 30\n",
      "\n",
      "##################\n",
      "###  Fold 002  ###\n",
      "##################\n",
      "\n",
      "8 trials detected for ('unit_1', 'unit_2', 'lr', 'epochs', 'batch_size')\n",
      "\n",
      "***** (1/8) *****\n",
      "Search({'unit_1': 128, 'unit_2': 64, 'lr': 0.01, 'epochs': 100, 'batch_size': 512})\n",
      "Restoring model weights from the end of the best epoch.\n",
      "Epoch 00029: early stopping\n",
      "SCORE: 0.958 at epoch 23\n",
      "\n",
      "***** (2/8) *****\n",
      "Search({'unit_1': 128, 'unit_2': 64, 'lr': 0.001, 'epochs': 100, 'batch_size': 512})\n",
      "Restoring model weights from the end of the best epoch.\n",
      "Epoch 00036: early stopping\n",
      "SCORE: 0.95267 at epoch 36\n",
      "\n",
      "***** (3/8) *****\n",
      "Search({'unit_1': 128, 'unit_2': 32, 'lr': 0.01, 'epochs': 100, 'batch_size': 512})\n",
      "Restoring model weights from the end of the best epoch.\n",
      "Epoch 00018: early stopping\n",
      "SCORE: 0.95633 at epoch 17\n",
      "\n",
      "***** (4/8) *****\n",
      "Search({'unit_1': 128, 'unit_2': 32, 'lr': 0.001, 'epochs': 100, 'batch_size': 512})\n",
      "Restoring model weights from the end of the best epoch.\n",
      "Epoch 00036: early stopping\n",
      "SCORE: 0.94733 at epoch 36\n",
      "\n",
      "***** (5/8) *****\n",
      "Search({'unit_1': 64, 'unit_2': 64, 'lr': 0.01, 'epochs': 100, 'batch_size': 512})\n",
      "Restoring model weights from the end of the best epoch.\n",
      "Epoch 00023: early stopping\n",
      "SCORE: 0.95233 at epoch 20\n",
      "\n",
      "***** (6/8) *****\n",
      "Search({'unit_1': 64, 'unit_2': 64, 'lr': 0.001, 'epochs': 100, 'batch_size': 512})\n",
      "Restoring model weights from the end of the best epoch.\n",
      "Epoch 00057: early stopping\n",
      "SCORE: 0.93967 at epoch 47\n",
      "\n",
      "***** (7/8) *****\n",
      "Search({'unit_1': 64, 'unit_2': 32, 'lr': 0.01, 'epochs': 100, 'batch_size': 512})\n",
      "Restoring model weights from the end of the best epoch.\n",
      "Epoch 00025: early stopping\n",
      "SCORE: 0.94733 at epoch 15\n",
      "\n",
      "***** (8/8) *****\n",
      "Search({'unit_1': 64, 'unit_2': 32, 'lr': 0.001, 'epochs': 100, 'batch_size': 512})\n",
      "Restoring model weights from the end of the best epoch.\n",
      "Epoch 00039: early stopping\n",
      "SCORE: 0.94 at epoch 37\n",
      "\n",
      "##################\n",
      "###  Fold 003  ###\n",
      "##################\n",
      "\n",
      "8 trials detected for ('unit_1', 'unit_2', 'lr', 'epochs', 'batch_size')\n",
      "\n",
      "***** (1/8) *****\n",
      "Search({'unit_1': 128, 'unit_2': 64, 'lr': 0.01, 'epochs': 100, 'batch_size': 512})\n",
      "Restoring model weights from the end of the best epoch.\n",
      "Epoch 00027: early stopping\n",
      "SCORE: 0.95365 at epoch 19\n",
      "\n",
      "***** (2/8) *****\n",
      "Search({'unit_1': 128, 'unit_2': 64, 'lr': 0.001, 'epochs': 100, 'batch_size': 512})\n",
      "Restoring model weights from the end of the best epoch.\n",
      "Epoch 00039: early stopping\n",
      "SCORE: 0.94698 at epoch 35\n",
      "\n",
      "***** (3/8) *****\n",
      "Search({'unit_1': 128, 'unit_2': 32, 'lr': 0.01, 'epochs': 100, 'batch_size': 512})\n",
      "Restoring model weights from the end of the best epoch.\n",
      "Epoch 00022: early stopping\n",
      "SCORE: 0.95065 at epoch 22\n",
      "\n",
      "***** (4/8) *****\n",
      "Search({'unit_1': 128, 'unit_2': 32, 'lr': 0.001, 'epochs': 100, 'batch_size': 512})\n",
      "Restoring model weights from the end of the best epoch.\n",
      "Epoch 00036: early stopping\n",
      "SCORE: 0.94532 at epoch 26\n",
      "\n",
      "***** (5/8) *****\n",
      "Search({'unit_1': 64, 'unit_2': 64, 'lr': 0.01, 'epochs': 100, 'batch_size': 512})\n",
      "Restoring model weights from the end of the best epoch.\n",
      "Epoch 00022: early stopping\n",
      "SCORE: 0.94765 at epoch 17\n",
      "\n",
      "***** (6/8) *****\n",
      "Search({'unit_1': 64, 'unit_2': 64, 'lr': 0.001, 'epochs': 100, 'batch_size': 512})\n",
      "Restoring model weights from the end of the best epoch.\n",
      "Epoch 00041: early stopping\n",
      "SCORE: 0.94265 at epoch 31\n",
      "\n",
      "***** (7/8) *****\n",
      "Search({'unit_1': 64, 'unit_2': 32, 'lr': 0.01, 'epochs': 100, 'batch_size': 512})\n",
      "Restoring model weights from the end of the best epoch.\n",
      "Epoch 00030: early stopping\n",
      "SCORE: 0.94898 at epoch 20\n",
      "\n",
      "***** (8/8) *****\n",
      "Search({'unit_1': 64, 'unit_2': 32, 'lr': 0.001, 'epochs': 100, 'batch_size': 512})\n",
      "Restoring model weights from the end of the best epoch.\n",
      "Epoch 00058: early stopping\n",
      "SCORE: 0.94365 at epoch 48\n"
     ]
    },
    {
     "data": {
      "text/plain": [
       "<kerashypetune.kerashypetune.KerasGridSearchCV at 0x1507ea3c708>"
      ]
     },
     "execution_count": 18,
     "metadata": {},
     "output_type": "execute_result"
    }
   ],
   "source": [
    "cv = KFold(n_splits=3, random_state=33, shuffle=True)\n",
    "\n",
    "es = EarlyStopping(patience=10, verbose=1, min_delta=0.001, monitor='val_accuracy', mode='auto', restore_best_weights=True)\n",
    "\n",
    "hypermodel = get_model\n",
    "# to pass external arguments to get_model use lambda function\n",
    "# ==> hypermodel = lambda x: get_model(param=x, ...)\n",
    "\n",
    "kgs = KerasGridSearchCV(hypermodel, param_grid, cv=cv, monitor='val_accuracy', greater_is_better=True)\n",
    "kgs.search(X, y, callbacks=[es])"
   ]
  },
  {
   "cell_type": "code",
   "execution_count": 19,
   "metadata": {
    "scrolled": true
   },
   "outputs": [
    {
     "data": {
      "text/plain": [
       "{'fold 1': [0.94767, 0.944, 0.94567, 0.935, 0.94667, 0.93433, 0.944, 0.93467],\n",
       " 'fold 2': [0.958, 0.95267, 0.95633, 0.94733, 0.95233, 0.93967, 0.94733, 0.94],\n",
       " 'fold 3': [0.95365,\n",
       "  0.94698,\n",
       "  0.95065,\n",
       "  0.94532,\n",
       "  0.94765,\n",
       "  0.94265,\n",
       "  0.94898,\n",
       "  0.94365]}"
      ]
     },
     "execution_count": 19,
     "metadata": {},
     "output_type": "execute_result"
    }
   ],
   "source": [
    "kgs.folds_scores"
   ]
  },
  {
   "cell_type": "code",
   "execution_count": 20,
   "metadata": {},
   "outputs": [
    {
     "data": {
      "text/plain": [
       "{'fold 1': 0.94767, 'fold 2': 0.958, 'fold 3': 0.95365}"
      ]
     },
     "execution_count": 20,
     "metadata": {},
     "output_type": "execute_result"
    }
   ],
   "source": [
    "kgs.folds_best_score"
   ]
  },
  {
   "cell_type": "code",
   "execution_count": 21,
   "metadata": {},
   "outputs": [
    {
     "data": {
      "text/plain": [
       "{'fold 1': {'unit_1': 128,\n",
       "  'unit_2': 64,\n",
       "  'lr': 0.01,\n",
       "  'epochs': 22,\n",
       "  'batch_size': 512,\n",
       "  'steps_per_epoch': 12},\n",
       " 'fold 2': {'unit_1': 128,\n",
       "  'unit_2': 64,\n",
       "  'lr': 0.01,\n",
       "  'epochs': 23,\n",
       "  'batch_size': 512,\n",
       "  'steps_per_epoch': 12},\n",
       " 'fold 3': {'unit_1': 128,\n",
       "  'unit_2': 64,\n",
       "  'lr': 0.01,\n",
       "  'epochs': 19,\n",
       "  'batch_size': 512,\n",
       "  'steps_per_epoch': 12}}"
      ]
     },
     "execution_count": 21,
     "metadata": {},
     "output_type": "execute_result"
    }
   ],
   "source": [
    "kgs.folds_best_params"
   ]
  },
  {
   "cell_type": "code",
   "execution_count": 22,
   "metadata": {},
   "outputs": [
    {
     "data": {
      "text/plain": [
       "{'fold 1': <tensorflow.python.keras.engine.sequential.Sequential at 0x1500924ad48>,\n",
       " 'fold 2': <tensorflow.python.keras.engine.sequential.Sequential at 0x15002b38408>,\n",
       " 'fold 3': <tensorflow.python.keras.engine.sequential.Sequential at 0x15002b50f88>}"
      ]
     },
     "execution_count": 22,
     "metadata": {},
     "output_type": "execute_result"
    }
   ],
   "source": [
    "kgs.folds_best_models"
   ]
  },
  {
   "cell_type": "code",
   "execution_count": 23,
   "metadata": {},
   "outputs": [
    {
     "data": {
      "text/plain": [
       "0.95311"
      ]
     },
     "execution_count": 23,
     "metadata": {},
     "output_type": "execute_result"
    }
   ],
   "source": [
    "kgs.best_params_score"
   ]
  },
  {
   "cell_type": "code",
   "execution_count": 24,
   "metadata": {},
   "outputs": [
    {
     "data": {
      "text/plain": [
       "[{'unit_1': 128,\n",
       "  'unit_2': 64,\n",
       "  'lr': 0.01,\n",
       "  'epochs': 22,\n",
       "  'batch_size': 512,\n",
       "  'steps_per_epoch': 12},\n",
       " {'unit_1': 128,\n",
       "  'unit_2': 64,\n",
       "  'lr': 0.01,\n",
       "  'epochs': 23,\n",
       "  'batch_size': 512,\n",
       "  'steps_per_epoch': 12},\n",
       " {'unit_1': 128,\n",
       "  'unit_2': 64,\n",
       "  'lr': 0.01,\n",
       "  'epochs': 19,\n",
       "  'batch_size': 512,\n",
       "  'steps_per_epoch': 12}]"
      ]
     },
     "execution_count": 24,
     "metadata": {},
     "output_type": "execute_result"
    }
   ],
   "source": [
    "kgs.best_params"
   ]
  }
 ],
 "metadata": {
  "kernelspec": {
   "display_name": "Python 3",
   "language": "python",
   "name": "python3"
  },
  "language_info": {
   "codemirror_mode": {
    "name": "ipython",
    "version": 3
   },
   "file_extension": ".py",
   "mimetype": "text/x-python",
   "name": "python",
   "nbconvert_exporter": "python",
   "pygments_lexer": "ipython3",
   "version": "3.7.4"
  }
 },
 "nbformat": 4,
 "nbformat_minor": 2
}
